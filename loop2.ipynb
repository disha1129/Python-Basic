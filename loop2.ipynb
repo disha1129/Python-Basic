{
 "cells": [
  {
   "cell_type": "markdown",
   "id": "cf7012bd-9536-464f-b2e2-9c2e30c6ea26",
   "metadata": {},
   "source": [
    "# Loop Exercise"
   ]
  },
  {
   "cell_type": "code",
   "execution_count": 2,
   "id": "2437dc3c-5c3f-40c9-bb52-9d7aacfe313d",
   "metadata": {},
   "outputs": [
    {
     "name": "stdout",
     "output_type": "stream",
     "text": [
      "1\n",
      "2\n",
      "3\n",
      "4\n",
      "5\n",
      "6\n",
      "7\n",
      "8\n",
      "9\n",
      "10\n"
     ]
    }
   ],
   "source": [
    "#Exercise 1: Print First 10 natural numbers using while loop\n",
    "i=1\n",
    "while i<=10:\n",
    "    print(i)\n",
    "    i=i+1"
   ]
  },
  {
   "cell_type": "code",
   "execution_count": 26,
   "id": "eaa6c8d8-ca87-4b49-a9bc-c033d61bc0e1",
   "metadata": {},
   "outputs": [
    {
     "name": "stdout",
     "output_type": "stream",
     "text": [
      "1  \n",
      "1 2  \n",
      "1 2 3  \n",
      "1 2 3 4  \n",
      "1 2 3 4 5  \n"
     ]
    }
   ],
   "source": [
    "#Exercise 2: Print the following pattern\n",
    "var=5\n",
    "for i in range(1,var+1):\n",
    "    for j in range(1,i+1):\n",
    "        print(j,end=\" \")\n",
    "    print(\" \")\n",
    "    \n",
    "\n",
    "    \n",
    "    "
   ]
  },
  {
   "cell_type": "code",
   "execution_count": 30,
   "id": "4f84ea3b-0ae0-4fe3-9d3e-c7c6d68519c5",
   "metadata": {},
   "outputs": [
    {
     "name": "stdout",
     "output_type": "stream",
     "text": [
      "1\n",
      "2\n",
      "3\n",
      "4\n",
      "5\n"
     ]
    }
   ],
   "source": [
    " for j in range(1,i+1):S\n",
    "        print(j)\n",
    "    "
   ]
  },
  {
   "cell_type": "code",
   "execution_count": 44,
   "id": "247c3e4c-ba89-4ebf-b3cf-db3b190a0450",
   "metadata": {},
   "outputs": [
    {
     "name": "stdin",
     "output_type": "stream",
     "text": [
      "Enter an interger 10\n"
     ]
    },
    {
     "name": "stdout",
     "output_type": "stream",
     "text": [
      "10\n",
      "sum is: 55\n"
     ]
    }
   ],
   "source": [
    "#Exercise 3: Calculate the sum of all numbers from 1 to a given number\n",
    "var=int(input(\"Enter an interger\"))\n",
    "x=0\n",
    "for i in range(1,var+1,1):\n",
    "    x=x+i\n",
    "print(var)\n",
    "print(\"sum is:\",x)"
   ]
  },
  {
   "cell_type": "code",
   "execution_count": 8,
   "id": "7428fa94-fcb3-46ef-b128-dc730d3915bf",
   "metadata": {},
   "outputs": [
    {
     "name": "stdout",
     "output_type": "stream",
     "text": [
      "1\n",
      "2\n",
      "3\n",
      "4\n",
      "5\n",
      "6\n",
      "7\n",
      "8\n",
      "9\n",
      "10\n",
      "\n",
      "table for one \n"
     ]
    }
   ],
   "source": [
    "a=1\n",
    "while a<=10:\n",
    "    print(a)\n",
    "    a=a+1\n",
    "print(\"\\ntable for one \")"
   ]
  },
  {
   "cell_type": "code",
   "execution_count": 9,
   "id": "32a3cbd7-8c11-4a94-888b-4c5b19ee39be",
   "metadata": {},
   "outputs": [
    {
     "name": "stdout",
     "output_type": "stream",
     "text": [
      "13\n",
      "26\n",
      "39\n",
      "52\n",
      "65\n",
      "78\n",
      "91\n",
      "104\n",
      "117\n",
      "130\n",
      "\n",
      " Table for Thirteen\n"
     ]
    }
   ],
   "source": [
    "n=13\n",
    "while n<=130:\n",
    "    print(n)\n",
    "    n=n+13\n",
    "print(\"\\n Table for Thirteen\")"
   ]
  },
  {
   "cell_type": "code",
   "execution_count": 15,
   "id": "2ea41e39-bfb4-403c-afa5-fe7be370bef5",
   "metadata": {},
   "outputs": [
    {
     "name": "stdout",
     "output_type": "stream",
     "text": [
      "100 90 80 70 60 50 40 30 20 10 "
     ]
    }
   ],
   "source": [
    "for i in range(100,0,-10):\n",
    "    print(i,end=\" \")"
   ]
  },
  {
   "cell_type": "code",
   "execution_count": null,
   "id": "d5959fd8-8cf7-43fd-ab8a-5e06ca604004",
   "metadata": {},
   "outputs": [],
   "source": []
  }
 ],
 "metadata": {
  "kernelspec": {
   "display_name": "Python 3",
   "language": "python",
   "name": "python3"
  },
  "language_info": {
   "codemirror_mode": {
    "name": "ipython",
    "version": 3
   },
   "file_extension": ".py",
   "mimetype": "text/x-python",
   "name": "python",
   "nbconvert_exporter": "python",
   "pygments_lexer": "ipython3",
   "version": "3.8.8"
  }
 },
 "nbformat": 4,
 "nbformat_minor": 5
}
