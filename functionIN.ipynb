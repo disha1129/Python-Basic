{
 "cells": [
  {
   "cell_type": "code",
   "execution_count": 5,
   "id": "5edaee43-5dc9-4504-bfd2-fd738d2c1c7e",
   "metadata": {},
   "outputs": [],
   "source": [
    "def test(**kwargs):\n",
    "    print(\"this is my args element\",kwargs.items())"
   ]
  },
  {
   "cell_type": "code",
   "execution_count": 6,
   "id": "5a1ae6da-6cee-4ac6-b9f2-9f8d23d5933e",
   "metadata": {},
   "outputs": [
    {
     "name": "stdout",
     "output_type": "stream",
     "text": [
      "this is my args element dict_items([('x', 'disha'), ('y', 23), ('z', [3, 4, 5, 6])])\n"
     ]
    }
   ],
   "source": [
    "test(x=\"disha\",y=23,z=[3,4,5,6])"
   ]
  },
  {
   "cell_type": "code",
   "execution_count": 9,
   "id": "6f7f24e0-48ab-4cef-9bcf-43e9c2c309b1",
   "metadata": {},
   "outputs": [],
   "source": [
    "def test (name, mail_id):\n",
    "    cin= name  + mail_id\n",
    "    return mail_id, name ,cin"
   ]
  },
  {
   "cell_type": "code",
   "execution_count": 10,
   "id": "afde100c-f000-4fa3-89ee-adcf998a54eb",
   "metadata": {},
   "outputs": [
    {
     "data": {
      "text/plain": [
       "('dishasharma22245@gmail.com', 'disha', 'dishadishasharma22245@gmail.com')"
      ]
     },
     "execution_count": 10,
     "metadata": {},
     "output_type": "execute_result"
    }
   ],
   "source": [
    "test(\"disha\",\"dishasharma22245@gmail.com\")"
   ]
  },
  {
   "cell_type": "code",
   "execution_count": 11,
   "id": "08da0838-642c-4325-8263-7d94061f8c4e",
   "metadata": {},
   "outputs": [],
   "source": [
    "a=10\n",
    "b=20\n",
    "def test1(x,y):\n",
    "    return x+y"
   ]
  },
  {
   "cell_type": "code",
   "execution_count": 13,
   "id": "06339ac6-9f8d-4e7c-8bc0-63cfe106d52c",
   "metadata": {},
   "outputs": [
    {
     "data": {
      "text/plain": [
       "30"
      ]
     },
     "execution_count": 13,
     "metadata": {},
     "output_type": "execute_result"
    }
   ],
   "source": [
    "test1(a,b)"
   ]
  },
  {
   "cell_type": "code",
   "execution_count": 14,
   "id": "5a4bf925-0795-41e1-87e5-c3981c879476",
   "metadata": {},
   "outputs": [],
   "source": [
    "m=lambda x,y: x+y"
   ]
  },
  {
   "cell_type": "code",
   "execution_count": 15,
   "id": "8896274f-63ad-43a6-8b9f-121521d61d22",
   "metadata": {},
   "outputs": [
    {
     "data": {
      "text/plain": [
       "30"
      ]
     },
     "execution_count": 15,
     "metadata": {},
     "output_type": "execute_result"
    }
   ],
   "source": [
    "m(a,b)"
   ]
  },
  {
   "cell_type": "code",
   "execution_count": 16,
   "id": "f166ad3e-8e80-4bea-acfa-c21b21f9d512",
   "metadata": {},
   "outputs": [
    {
     "data": {
      "text/plain": [
       "'sudhdishasharma22245@gmail.com'"
      ]
     },
     "execution_count": 16,
     "metadata": {},
     "output_type": "execute_result"
    }
   ],
   "source": [
    "m(\"sudh\",\"dishasharma22245@gmail.com\")"
   ]
  },
  {
   "cell_type": "code",
   "execution_count": 17,
   "id": "432ece63-8de7-4ecd-b4db-7ba4fce62b89",
   "metadata": {},
   "outputs": [],
   "source": [
    "b=\"disha\"\n",
    "c=\"test\"\n",
    "n=lambda arg1,arg2 : print(arg1, arg2)"
   ]
  },
  {
   "cell_type": "code",
   "execution_count": 18,
   "id": "315d0da3-807b-43fd-88b4-003c0ee1ffd8",
   "metadata": {},
   "outputs": [
    {
     "name": "stdout",
     "output_type": "stream",
     "text": [
      "disha test\n"
     ]
    }
   ],
   "source": [
    "n(b,c)"
   ]
  },
  {
   "cell_type": "code",
   "execution_count": 19,
   "id": "b821b774-8518-429c-bbda-c940c2e7a2b9",
   "metadata": {},
   "outputs": [],
   "source": [
    "r=10\n",
    "def test3(a,b):\n",
    "    r=a/b\n",
    "    print(r)\n",
    "    "
   ]
  },
  {
   "cell_type": "code",
   "execution_count": 23,
   "id": "fe46170b-e034-4279-9037-4658abcb778c",
   "metadata": {},
   "outputs": [
    {
     "name": "stdout",
     "output_type": "stream",
     "text": [
      "10.0\n"
     ]
    }
   ],
   "source": [
    "test3(100,10)"
   ]
  },
  {
   "cell_type": "code",
   "execution_count": 26,
   "id": "897df574-da8d-4904-8e66-e9be556f13a4",
   "metadata": {},
   "outputs": [],
   "source": [
    "def test4():\n",
    "    \"\"\"this is my test function with the\n",
    "    help of this function you will be able to learn a \n",
    "    basic of funct\"\"\"\n",
    "    print(\"my name is xyz\")"
   ]
  },
  {
   "cell_type": "code",
   "execution_count": 30,
   "id": "dbcdfa95-a40c-4589-8ed8-4760b2e53513",
   "metadata": {},
   "outputs": [
    {
     "name": "stdout",
     "output_type": "stream",
     "text": [
      "my name is xyz\n"
     ]
    }
   ],
   "source": [
    "test4()"
   ]
  },
  {
   "cell_type": "code",
   "execution_count": 31,
   "id": "67652ed9-64b1-4670-862f-bee520fdc883",
   "metadata": {},
   "outputs": [
    {
     "name": "stdout",
     "output_type": "stream",
     "text": [
      "Help on built-in function print in module builtins:\n",
      "\n",
      "print(...)\n",
      "    print(value, ..., sep=' ', end='\\n', file=sys.stdout, flush=False)\n",
      "    \n",
      "    Prints the values to a stream, or to sys.stdout by default.\n",
      "    Optional keyword arguments:\n",
      "    file:  a file-like object (stream); defaults to the current sys.stdout.\n",
      "    sep:   string inserted between values, default a space.\n",
      "    end:   string appended after the last value, default a newline.\n",
      "    flush: whether to forcibly flush the stream.\n",
      "\n"
     ]
    }
   ],
   "source": [
    "help(print)"
   ]
  },
  {
   "cell_type": "code",
   "execution_count": 32,
   "id": "1aecd5cc-3952-45c8-a887-206b38ac4407",
   "metadata": {},
   "outputs": [],
   "source": [
    "def test4(a,b):\n",
    "    \"\"\"\n",
    "    a=this is going to do this\n",
    "    b=is going to do that\n",
    "    this is my test function with the\n",
    "    help of this function you will be able to learn a \n",
    "    basic of funct\"\"\"\n",
    "    print(\"my name is xyz\")"
   ]
  },
  {
   "cell_type": "code",
   "execution_count": 33,
   "id": "eb1d1fa6-2895-485d-ad65-f29ef75bcf4a",
   "metadata": {},
   "outputs": [
    {
     "name": "stdout",
     "output_type": "stream",
     "text": [
      "Help on function test4 in module __main__:\n",
      "\n",
      "test4(a, b)\n",
      "    a=this is going to do this\n",
      "    b=is going to do that\n",
      "    this is my test function with the\n",
      "    help of this function you will be able to learn a \n",
      "    basic of funct\n",
      "\n"
     ]
    }
   ],
   "source": [
    "help(test4)"
   ]
  },
  {
   "cell_type": "code",
   "execution_count": 35,
   "id": "957c3a7c-5ea7-41a1-a6af-cc5526cc8ce8",
   "metadata": {},
   "outputs": [
    {
     "ename": "TypeError",
     "evalue": "'int' object is not iterable",
     "output_type": "error",
     "traceback": [
      "\u001b[1;31m---------------------------------------------------------------------------\u001b[0m",
      "\u001b[1;31mTypeError\u001b[0m                                 Traceback (most recent call last)",
      "\u001b[1;32m<ipython-input-35-d7f923ebcd4c>\u001b[0m in \u001b[0;36m<module>\u001b[1;34m\u001b[0m\n\u001b[0;32m      1\u001b[0m \u001b[1;31m# iterater iterable genrator\u001b[0m\u001b[1;33m\u001b[0m\u001b[1;33m\u001b[0m\u001b[1;33m\u001b[0m\u001b[0m\n\u001b[1;32m----> 2\u001b[1;33m \u001b[1;32mfor\u001b[0m \u001b[0mi\u001b[0m \u001b[1;32min\u001b[0m \u001b[0ma\u001b[0m\u001b[1;33m:\u001b[0m\u001b[1;33m\u001b[0m\u001b[1;33m\u001b[0m\u001b[0m\n\u001b[0m\u001b[0;32m      3\u001b[0m     \u001b[0mprint\u001b[0m\u001b[1;33m(\u001b[0m\u001b[0mi\u001b[0m\u001b[1;33m)\u001b[0m\u001b[1;33m\u001b[0m\u001b[1;33m\u001b[0m\u001b[0m\n",
      "\u001b[1;31mTypeError\u001b[0m: 'int' object is not iterable"
     ]
    }
   ],
   "source": [
    "# iterater iterable genrator\n",
    "# 'int' object is not iterable:- not convert your object into iterator \n",
    "for i in a:\n",
    "    print(i)"
   ]
  },
  {
   "cell_type": "code",
   "execution_count": 36,
   "id": "ac2a42d6-8eee-4a71-9b34-f287e3b54414",
   "metadata": {},
   "outputs": [
    {
     "name": "stdout",
     "output_type": "stream",
     "text": [
      "s\n",
      "u\n",
      "d\n",
      "h\n"
     ]
    }
   ],
   "source": [
    "for i in \"sudh\":\n",
    "    print(i)\n"
   ]
  },
  {
   "cell_type": "code",
   "execution_count": 37,
   "id": "8cad705c-cb57-485a-b4f5-7c86b6c5c0de",
   "metadata": {},
   "outputs": [
    {
     "ename": "TypeError",
     "evalue": "'str' object is not an iterator",
     "output_type": "error",
     "traceback": [
      "\u001b[1;31m---------------------------------------------------------------------------\u001b[0m",
      "\u001b[1;31mTypeError\u001b[0m                                 Traceback (most recent call last)",
      "\u001b[1;32m<ipython-input-37-e8bf886d543a>\u001b[0m in \u001b[0;36m<module>\u001b[1;34m\u001b[0m\n\u001b[0;32m      1\u001b[0m \u001b[0ms\u001b[0m\u001b[1;33m=\u001b[0m\u001b[1;34m\"sudh\"\u001b[0m\u001b[1;33m\u001b[0m\u001b[1;33m\u001b[0m\u001b[0m\n\u001b[1;32m----> 2\u001b[1;33m \u001b[0mnext\u001b[0m\u001b[1;33m(\u001b[0m\u001b[0ms\u001b[0m\u001b[1;33m)\u001b[0m\u001b[1;33m\u001b[0m\u001b[1;33m\u001b[0m\u001b[0m\n\u001b[0m",
      "\u001b[1;31mTypeError\u001b[0m: 'str' object is not an iterator"
     ]
    }
   ],
   "source": [
    "# str' object is not an iterator:-\n",
    "s=\"sudh\"\n",
    "next(s)\n"
   ]
  },
  {
   "cell_type": "code",
   "execution_count": 39,
   "id": "25b6d312-5787-4920-8f93-47ea42afab2c",
   "metadata": {},
   "outputs": [],
   "source": [
    "s=iter(s)"
   ]
  },
  {
   "cell_type": "code",
   "execution_count": 41,
   "id": "181eb750-172f-47eb-a290-07df1925166e",
   "metadata": {},
   "outputs": [
    {
     "data": {
      "text/plain": [
       "'s'"
      ]
     },
     "execution_count": 41,
     "metadata": {},
     "output_type": "execute_result"
    }
   ],
   "source": [
    "next(s)"
   ]
  },
  {
   "cell_type": "code",
   "execution_count": 46,
   "id": "a55b586d-08ab-4f36-8b9d-e83a7f65da33",
   "metadata": {},
   "outputs": [
    {
     "data": {
      "text/plain": [
       "'u'"
      ]
     },
     "execution_count": 46,
     "metadata": {},
     "output_type": "execute_result"
    }
   ],
   "source": [
    "next(s)"
   ]
  },
  {
   "cell_type": "code",
   "execution_count": 47,
   "id": "8fd0289d-e1d3-4a56-8369-26b630325e6d",
   "metadata": {},
   "outputs": [
    {
     "data": {
      "text/plain": [
       "'d'"
      ]
     },
     "execution_count": 47,
     "metadata": {},
     "output_type": "execute_result"
    }
   ],
   "source": [
    "next(s)"
   ]
  },
  {
   "cell_type": "code",
   "execution_count": 48,
   "id": "751497c2-b8a0-46c1-8865-a9d4e2b80650",
   "metadata": {},
   "outputs": [
    {
     "data": {
      "text/plain": [
       "'h'"
      ]
     },
     "execution_count": 48,
     "metadata": {},
     "output_type": "execute_result"
    }
   ],
   "source": [
    "next(s)"
   ]
  },
  {
   "cell_type": "code",
   "execution_count": 49,
   "id": "e6f293ac-e025-4405-9b48-6a8011c39c1a",
   "metadata": {},
   "outputs": [
    {
     "ename": "StopIteration",
     "evalue": "",
     "output_type": "error",
     "traceback": [
      "\u001b[1;31m---------------------------------------------------------------------------\u001b[0m",
      "\u001b[1;31mStopIteration\u001b[0m                             Traceback (most recent call last)",
      "\u001b[1;32m<ipython-input-49-61c30b5fe1d5>\u001b[0m in \u001b[0;36m<module>\u001b[1;34m\u001b[0m\n\u001b[1;32m----> 1\u001b[1;33m \u001b[0mnext\u001b[0m\u001b[1;33m(\u001b[0m\u001b[0ms\u001b[0m\u001b[1;33m)\u001b[0m\u001b[1;33m\u001b[0m\u001b[1;33m\u001b[0m\u001b[0m\n\u001b[0m",
      "\u001b[1;31mStopIteration\u001b[0m: "
     ]
    }
   ],
   "source": [
    "next(s)"
   ]
  },
  {
   "cell_type": "code",
   "execution_count": 42,
   "id": "ef58d745-88a1-4e54-a4ad-b0fb412e82bb",
   "metadata": {},
   "outputs": [
    {
     "ename": "TypeError",
     "evalue": "'int' object is not an iterator",
     "output_type": "error",
     "traceback": [
      "\u001b[1;31m---------------------------------------------------------------------------\u001b[0m",
      "\u001b[1;31mTypeError\u001b[0m                                 Traceback (most recent call last)",
      "\u001b[1;32m<ipython-input-42-98ad6148a9eb>\u001b[0m in \u001b[0;36m<module>\u001b[1;34m\u001b[0m\n\u001b[0;32m      1\u001b[0m \u001b[0ma\u001b[0m\u001b[1;33m=\u001b[0m\u001b[1;36m10\u001b[0m\u001b[1;33m\u001b[0m\u001b[1;33m\u001b[0m\u001b[0m\n\u001b[1;32m----> 2\u001b[1;33m \u001b[0mnext\u001b[0m\u001b[1;33m(\u001b[0m\u001b[0ma\u001b[0m\u001b[1;33m)\u001b[0m\u001b[1;33m\u001b[0m\u001b[1;33m\u001b[0m\u001b[0m\n\u001b[0m",
      "\u001b[1;31mTypeError\u001b[0m: 'int' object is not an iterator"
     ]
    }
   ],
   "source": [
    "a=10\n",
    "next(a)"
   ]
  },
  {
   "cell_type": "code",
   "execution_count": 45,
   "id": "5a6197d6-097d-4131-b7e4-c19f11059524",
   "metadata": {},
   "outputs": [
    {
     "ename": "TypeError",
     "evalue": "'int' object is not iterable",
     "output_type": "error",
     "traceback": [
      "\u001b[1;31m---------------------------------------------------------------------------\u001b[0m",
      "\u001b[1;31mTypeError\u001b[0m                                 Traceback (most recent call last)",
      "\u001b[1;32m<ipython-input-45-6494c98a712f>\u001b[0m in \u001b[0;36m<module>\u001b[1;34m\u001b[0m\n\u001b[1;32m----> 1\u001b[1;33m \u001b[0miter\u001b[0m\u001b[1;33m(\u001b[0m\u001b[0ma\u001b[0m\u001b[1;33m)\u001b[0m\u001b[1;33m\u001b[0m\u001b[1;33m\u001b[0m\u001b[0m\n\u001b[0m\u001b[0;32m      2\u001b[0m \u001b[1;33m\u001b[0m\u001b[0m\n",
      "\u001b[1;31mTypeError\u001b[0m: 'int' object is not iterable"
     ]
    }
   ],
   "source": [
    "iter(a)\n",
    "\n"
   ]
  },
  {
   "cell_type": "code",
   "execution_count": null,
   "id": "3694cd4c-14fb-4170-a795-84c2284f0451",
   "metadata": {},
   "outputs": [],
   "source": [
    "for i in \"sudh\":\n",
    "    print(i)"
   ]
  },
  {
   "cell_type": "code",
   "execution_count": 63,
   "id": "fcaf6bae-8160-425c-ac0d-b4e831515367",
   "metadata": {},
   "outputs": [],
   "source": [
    "l=[1,2,3,4,5,]"
   ]
  },
  {
   "cell_type": "code",
   "execution_count": 64,
   "id": "3c94a21c-d3ea-44cf-9b01-efbad3b30c61",
   "metadata": {},
   "outputs": [],
   "source": [
    "l=iter(l)"
   ]
  },
  {
   "cell_type": "code",
   "execution_count": 65,
   "id": "cfe6c432-3273-4bac-a04f-4958cfb24ae0",
   "metadata": {},
   "outputs": [
    {
     "data": {
      "text/plain": [
       "1"
      ]
     },
     "execution_count": 65,
     "metadata": {},
     "output_type": "execute_result"
    }
   ],
   "source": [
    "next(l)"
   ]
  },
  {
   "cell_type": "code",
   "execution_count": 66,
   "id": "a76ba492-d1c7-4bd8-b440-a01c29d7d70c",
   "metadata": {},
   "outputs": [
    {
     "data": {
      "text/plain": [
       "2"
      ]
     },
     "execution_count": 66,
     "metadata": {},
     "output_type": "execute_result"
    }
   ],
   "source": [
    "next(l)"
   ]
  },
  {
   "cell_type": "code",
   "execution_count": 67,
   "id": "70b313d7-bafe-44e1-8aa0-3f5003b13b02",
   "metadata": {},
   "outputs": [],
   "source": [
    "# list is not a itertor it is iterable object"
   ]
  },
  {
   "cell_type": "code",
   "execution_count": 69,
   "id": "ef901cdd-61f4-4ab3-917d-b5b2ffd33009",
   "metadata": {},
   "outputs": [],
   "source": [
    "t=(4,5,6,7)\n",
    "t=iter(t)"
   ]
  },
  {
   "cell_type": "code",
   "execution_count": 70,
   "id": "dbae8571-0830-4a04-8b1f-2f7fc32f614c",
   "metadata": {},
   "outputs": [
    {
     "data": {
      "text/plain": [
       "4"
      ]
     },
     "execution_count": 70,
     "metadata": {},
     "output_type": "execute_result"
    }
   ],
   "source": [
    "next(t)"
   ]
  },
  {
   "cell_type": "code",
   "execution_count": 71,
   "id": "ed30ffb6-ff4a-41d7-a0a8-ae003bb67dec",
   "metadata": {},
   "outputs": [
    {
     "data": {
      "text/plain": [
       "5"
      ]
     },
     "execution_count": 71,
     "metadata": {},
     "output_type": "execute_result"
    }
   ],
   "source": [
    "next(t)"
   ]
  },
  {
   "cell_type": "code",
   "execution_count": 86,
   "id": "aa416193-368f-4035-a2c4-5c7f6d5a62eb",
   "metadata": {},
   "outputs": [],
   "source": [
    "def test4(n):\n",
    "    l=[]\n",
    "    for i in range(n):\n",
    "        l.append(i**3)\n",
    "    return l"
   ]
  },
  {
   "cell_type": "code",
   "execution_count": 87,
   "id": "10b0614a-fb5a-40b1-a695-8cc303e22ef5",
   "metadata": {},
   "outputs": [
    {
     "data": {
      "text/plain": [
       "[0, 1, 8, 27, 64, 125]"
      ]
     },
     "execution_count": 87,
     "metadata": {},
     "output_type": "execute_result"
    }
   ],
   "source": [
    "test4(6)"
   ]
  },
  {
   "cell_type": "code",
   "execution_count": 88,
   "id": "2d33bb56-7386-404f-b768-b4c418b1fbc2",
   "metadata": {},
   "outputs": [],
   "source": [
    "#Genrator"
   ]
  },
  {
   "cell_type": "code",
   "execution_count": 89,
   "id": "5a7d23ee-dd12-4ad8-bae7-a95433e54d0b",
   "metadata": {},
   "outputs": [],
   "source": [
    "def test5(n):\n",
    "    for i in range(n):\n",
    "        yield i**3"
   ]
  },
  {
   "cell_type": "code",
   "execution_count": 90,
   "id": "9168481b-11b9-41fb-8834-2980661b38e0",
   "metadata": {},
   "outputs": [
    {
     "data": {
      "text/plain": [
       "<generator object test5 at 0x000001DAE35EAC10>"
      ]
     },
     "execution_count": 90,
     "metadata": {},
     "output_type": "execute_result"
    }
   ],
   "source": [
    "test5(30)"
   ]
  },
  {
   "cell_type": "code",
   "execution_count": 95,
   "id": "268bb871-e351-4056-bfaa-373abb6a41e9",
   "metadata": {},
   "outputs": [
    {
     "name": "stdout",
     "output_type": "stream",
     "text": [
      "0\n",
      "1\n",
      "8\n",
      "27\n",
      "64\n",
      "125\n",
      "216\n",
      "343\n",
      "512\n",
      "729\n",
      "1000\n",
      "1331\n",
      "1728\n",
      "2197\n",
      "2744\n",
      "3375\n",
      "4096\n",
      "4913\n",
      "5832\n",
      "6859\n",
      "8000\n",
      "9261\n",
      "10648\n",
      "12167\n",
      "13824\n",
      "15625\n",
      "17576\n",
      "19683\n",
      "21952\n",
      "24389\n"
     ]
    }
   ],
   "source": [
    "for i in test5(30):\n",
    "    print(i)"
   ]
  },
  {
   "cell_type": "code",
   "execution_count": 91,
   "id": "073d8f96-f5cc-47a8-8357-a63eccad2c10",
   "metadata": {},
   "outputs": [
    {
     "data": {
      "text/plain": [
       "range(0, 20)"
      ]
     },
     "execution_count": 91,
     "metadata": {},
     "output_type": "execute_result"
    }
   ],
   "source": [
    "range(20)"
   ]
  },
  {
   "cell_type": "code",
   "execution_count": 92,
   "id": "4ee935e5-ddb7-4775-942e-50f5e28cdc14",
   "metadata": {},
   "outputs": [
    {
     "data": {
      "text/plain": [
       "[0, 1, 2, 3, 4, 5, 6, 7, 8, 9, 10, 11, 12, 13, 14, 15, 16, 17, 18, 19]"
      ]
     },
     "execution_count": 92,
     "metadata": {},
     "output_type": "execute_result"
    }
   ],
   "source": [
    "list(range(20))"
   ]
  },
  {
   "cell_type": "code",
   "execution_count": 98,
   "id": "8a5ee4b7-8eb6-4888-ba09-d579bce06026",
   "metadata": {},
   "outputs": [
    {
     "name": "stdout",
     "output_type": "stream",
     "text": [
      "0\n",
      "1\n",
      "2\n",
      "3\n",
      "4\n",
      "5\n",
      "6\n",
      "7\n",
      "8\n",
      "9\n",
      "10\n",
      "11\n",
      "12\n",
      "13\n",
      "14\n",
      "15\n",
      "16\n",
      "17\n",
      "18\n",
      "19\n"
     ]
    }
   ],
   "source": [
    "for i in range(20):\n",
    "    print(i)"
   ]
  },
  {
   "cell_type": "code",
   "execution_count": 106,
   "id": "282ccf50-f969-446b-9281-5f7bacd9dbf4",
   "metadata": {},
   "outputs": [],
   "source": [
    "def genfib(n):\n",
    "    a=1\n",
    "    b=1\n",
    "    output=[]\n",
    "    for i in range(n):\n",
    "        output.append(a)\n",
    "        a,b=b,a+b\n",
    "    return output\n"
   ]
  },
  {
   "cell_type": "code",
   "execution_count": 107,
   "id": "057a5f59-7f1c-40c4-b060-f01923b0c2f5",
   "metadata": {},
   "outputs": [
    {
     "data": {
      "text/plain": [
       "[1, 1, 2, 3, 5, 8, 13, 21, 34, 55]"
      ]
     },
     "execution_count": 107,
     "metadata": {},
     "output_type": "execute_result"
    }
   ],
   "source": [
    "genfib(10)\n"
   ]
  },
  {
   "cell_type": "code",
   "execution_count": 109,
   "id": "f3f1fddd-09a5-4e5e-b29a-816798fe306c",
   "metadata": {},
   "outputs": [],
   "source": [
    "def genfib(n):\n",
    "    a=1\n",
    "    b=1\n",
    "    \n",
    "    for i in range(n):\n",
    "        yield a\n",
    "        a,b=b,a+b\n",
    "   \n"
   ]
  },
  {
   "cell_type": "code",
   "execution_count": 110,
   "id": "cafeee7a-2ad8-4ea4-91b4-76cb48de75e5",
   "metadata": {},
   "outputs": [
    {
     "data": {
      "text/plain": [
       "<generator object genfib at 0x000001DAE38E9C80>"
      ]
     },
     "execution_count": 110,
     "metadata": {},
     "output_type": "execute_result"
    }
   ],
   "source": [
    "genfib(6)"
   ]
  },
  {
   "cell_type": "code",
   "execution_count": 111,
   "id": "4a3d27be-42ad-42ba-8742-c0806ca558f7",
   "metadata": {},
   "outputs": [
    {
     "name": "stdout",
     "output_type": "stream",
     "text": [
      "1\n",
      "1\n",
      "2\n",
      "3\n",
      "5\n",
      "8\n"
     ]
    }
   ],
   "source": [
    "for i in genfib(6):\n",
    "    print(i)"
   ]
  },
  {
   "cell_type": "code",
   "execution_count": 15,
   "id": "8e4bb9d7-6c3d-4173-8a45-eb062a6c73ce",
   "metadata": {},
   "outputs": [],
   "source": [
    "def temp(num):\n",
    "    if num<32:\n",
    "        print(\"frezzing\")\n",
    "    print(type(num))\n",
    "    return num"
   ]
  },
  {
   "cell_type": "code",
   "execution_count": 17,
   "id": "5e0a02fe-19e3-49f2-ae0b-83973d3d91cb",
   "metadata": {},
   "outputs": [
    {
     "name": "stdout",
     "output_type": "stream",
     "text": [
      "frezzing\n",
      "<class 'int'>\n"
     ]
    },
    {
     "data": {
      "text/plain": [
       "12"
      ]
     },
     "execution_count": 17,
     "metadata": {},
     "output_type": "execute_result"
    }
   ],
   "source": [
    "temp(12)"
   ]
  },
  {
   "cell_type": "code",
   "execution_count": 23,
   "id": "5d4562b1-c0a5-4804-af62-12c3f8bb5a04",
   "metadata": {},
   "outputs": [],
   "source": [
    "def gusse_func(num):\n",
    "    var=1\n",
    "    while var<=num:\n",
    "        if num<=9:\n",
    "            print(\"well gusse\",num)\n",
    "\n",
    "        else:\n",
    "            print(\"wrong\",num)\n",
    "        var=num+1\n",
    "        return\n"
   ]
  },
  {
   "cell_type": "code",
   "execution_count": 24,
   "id": "bfd454db-56d0-4556-96c4-372fd8055b06",
   "metadata": {},
   "outputs": [
    {
     "name": "stdout",
     "output_type": "stream",
     "text": [
      "well gusse 4\n"
     ]
    }
   ],
   "source": [
    "gusse_func(4)"
   ]
  },
  {
   "cell_type": "code",
   "execution_count": 5,
   "id": "0ce66a9f-4916-44a9-8431-f6aae8a59930",
   "metadata": {},
   "outputs": [],
   "source": [
    "def gusse_func(num):\n",
    "    if num<=9:\n",
    "        print(\"well gusse\",num)\n",
    "    else:\n",
    "        print(\"wrong\",num)\n",
    "    \n",
    "    \n",
    "           \n",
    "        \n",
    "        \n"
   ]
  },
  {
   "cell_type": "code",
   "execution_count": 7,
   "id": "1e3690b1-5665-4792-a861-3906f749190f",
   "metadata": {},
   "outputs": [
    {
     "name": "stdout",
     "output_type": "stream",
     "text": [
      "wrong 10\n"
     ]
    }
   ],
   "source": [
    "gusse_func(10)"
   ]
  },
  {
   "cell_type": "code",
   "execution_count": null,
   "id": "9f291249-29b6-4df7-bded-7454d56905b4",
   "metadata": {},
   "outputs": [],
   "source": []
  },
  {
   "cell_type": "code",
   "execution_count": null,
   "id": "33ddf167-ffa6-41eb-af46-197cff8de2bf",
   "metadata": {},
   "outputs": [],
   "source": []
  },
  {
   "cell_type": "code",
   "execution_count": null,
   "id": "fa5059c0-bea2-4e7b-8aa4-b9c1f10c13dc",
   "metadata": {},
   "outputs": [],
   "source": []
  },
  {
   "cell_type": "code",
   "execution_count": null,
   "id": "9fd55620-c993-495d-91cd-8cc10e0a8180",
   "metadata": {},
   "outputs": [],
   "source": []
  },
  {
   "cell_type": "code",
   "execution_count": null,
   "id": "9075d939-c36a-4e14-bc3f-3048cbf939ac",
   "metadata": {},
   "outputs": [],
   "source": []
  },
  {
   "cell_type": "code",
   "execution_count": null,
   "id": "713afc28-0a8d-408f-9a63-e559ed52e68a",
   "metadata": {},
   "outputs": [],
   "source": []
  },
  {
   "cell_type": "code",
   "execution_count": null,
   "id": "d7eda4a5-288a-4240-a505-53a4eb09d161",
   "metadata": {},
   "outputs": [],
   "source": []
  },
  {
   "cell_type": "code",
   "execution_count": null,
   "id": "e7c09330-a169-4fcb-adee-00dc8ce631ea",
   "metadata": {},
   "outputs": [],
   "source": []
  },
  {
   "cell_type": "code",
   "execution_count": null,
   "id": "84487884-d6b0-4f73-a78a-b74a5dc2b054",
   "metadata": {},
   "outputs": [],
   "source": []
  },
  {
   "cell_type": "code",
   "execution_count": null,
   "id": "933935e5-fe33-4bfd-a8ce-0be7ebd6608b",
   "metadata": {},
   "outputs": [],
   "source": []
  },
  {
   "cell_type": "code",
   "execution_count": null,
   "id": "3b016805-5c48-49e6-ad70-c3e125c378d1",
   "metadata": {},
   "outputs": [],
   "source": []
  },
  {
   "cell_type": "code",
   "execution_count": null,
   "id": "aac7eb13-77af-4ce7-91d4-9b6baede9c5f",
   "metadata": {},
   "outputs": [],
   "source": []
  },
  {
   "cell_type": "code",
   "execution_count": null,
   "id": "b85175f6-2e86-49ed-b646-7b9fe3c4793e",
   "metadata": {},
   "outputs": [],
   "source": []
  },
  {
   "cell_type": "code",
   "execution_count": null,
   "id": "be5505fe-8f83-4b03-ba64-93ad01a7ab50",
   "metadata": {},
   "outputs": [],
   "source": []
  },
  {
   "cell_type": "code",
   "execution_count": null,
   "id": "5f4cd1d6-5205-4e09-8fcb-d6dfa13f6661",
   "metadata": {},
   "outputs": [],
   "source": []
  },
  {
   "cell_type": "code",
   "execution_count": null,
   "id": "f033b35a-6693-4c1b-82ec-e7df2f0a6a5a",
   "metadata": {},
   "outputs": [],
   "source": []
  },
  {
   "cell_type": "code",
   "execution_count": null,
   "id": "285989e3-2d6b-47b7-9e18-9f56724d8cda",
   "metadata": {},
   "outputs": [],
   "source": []
  },
  {
   "cell_type": "code",
   "execution_count": null,
   "id": "40c71844-f664-4fa3-9c45-ba337dff1660",
   "metadata": {},
   "outputs": [],
   "source": []
  },
  {
   "cell_type": "code",
   "execution_count": null,
   "id": "ebf5a833-fd80-420c-9991-bc58b58da2df",
   "metadata": {},
   "outputs": [],
   "source": []
  },
  {
   "cell_type": "code",
   "execution_count": null,
   "id": "e22adb25-8f1c-4332-ac2e-34e89c097006",
   "metadata": {},
   "outputs": [],
   "source": []
  },
  {
   "cell_type": "code",
   "execution_count": null,
   "id": "40f08a35-f5de-4f6c-940b-545e6990bc81",
   "metadata": {},
   "outputs": [],
   "source": []
  },
  {
   "cell_type": "code",
   "execution_count": null,
   "id": "b49abbcf-99f8-4465-9730-1ecd70188974",
   "metadata": {},
   "outputs": [],
   "source": []
  },
  {
   "cell_type": "code",
   "execution_count": null,
   "id": "058a8e0b-ca48-4712-aa3a-1308666fd7ba",
   "metadata": {},
   "outputs": [],
   "source": []
  },
  {
   "cell_type": "code",
   "execution_count": null,
   "id": "a7911406-8f46-4681-a307-13879b529be9",
   "metadata": {},
   "outputs": [],
   "source": []
  },
  {
   "cell_type": "code",
   "execution_count": null,
   "id": "2f853e81-5b3c-49b4-b2b2-a7a93c8dc3ab",
   "metadata": {},
   "outputs": [],
   "source": []
  },
  {
   "cell_type": "code",
   "execution_count": null,
   "id": "048e9116-57d0-473c-8d63-65853d8482ac",
   "metadata": {},
   "outputs": [],
   "source": []
  },
  {
   "cell_type": "code",
   "execution_count": null,
   "id": "914b7190-4743-4a6b-9fe4-30787aa77cc8",
   "metadata": {},
   "outputs": [],
   "source": []
  },
  {
   "cell_type": "code",
   "execution_count": null,
   "id": "9ace2f0c-bed7-46af-a679-b94a098a4c8b",
   "metadata": {},
   "outputs": [],
   "source": []
  },
  {
   "cell_type": "code",
   "execution_count": null,
   "id": "f2366b9c-d781-4e48-a396-4a0c1dbc591e",
   "metadata": {},
   "outputs": [],
   "source": []
  },
  {
   "cell_type": "code",
   "execution_count": null,
   "id": "aaa3a088-76ff-4896-91f2-8766e9a43a7a",
   "metadata": {},
   "outputs": [],
   "source": []
  },
  {
   "cell_type": "code",
   "execution_count": null,
   "id": "22aa6406-3b07-40fa-a64f-b899cd81d6c7",
   "metadata": {},
   "outputs": [],
   "source": []
  },
  {
   "cell_type": "code",
   "execution_count": null,
   "id": "a016882e-c6fa-44bd-ab2f-9abda8daf117",
   "metadata": {},
   "outputs": [],
   "source": []
  }
 ],
 "metadata": {
  "kernelspec": {
   "display_name": "Python 3",
   "language": "python",
   "name": "python3"
  },
  "language_info": {
   "codemirror_mode": {
    "name": "ipython",
    "version": 3
   },
   "file_extension": ".py",
   "mimetype": "text/x-python",
   "name": "python",
   "nbconvert_exporter": "python",
   "pygments_lexer": "ipython3",
   "version": "3.8.8"
  }
 },
 "nbformat": 4,
 "nbformat_minor": 5
}
