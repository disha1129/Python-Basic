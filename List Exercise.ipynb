{
 "cells": [
  {
   "cell_type": "markdown",
   "id": "d6f713f4-f972-4371-bcd2-6b5727528adc",
   "metadata": {},
   "source": [
    "# List Exercise\n"
   ]
  },
  {
   "cell_type": "code",
   "execution_count": 1,
   "id": "22919403-4f45-4527-a6b5-0f5f49f322c5",
   "metadata": {},
   "outputs": [],
   "source": [
    "#Exercise 1: Reverse a list in Python\n",
    "list1=[100,200,300,400,500]\n"
   ]
  },
  {
   "cell_type": "code",
   "execution_count": 2,
   "id": "2851fc8e-4061-46d8-be10-fd73b5ad3736",
   "metadata": {},
   "outputs": [
    {
     "name": "stdout",
     "output_type": "stream",
     "text": [
      "[500, 400, 300, 200, 100]\n"
     ]
    }
   ],
   "source": [
    "list2=[]\n",
    "z=0\n",
    "for i in range(len(list1)):\n",
    "    z=z-1\n",
    "    list2.append(list1[z])\n",
    "print(list2)\n"
   ]
  },
  {
   "cell_type": "code",
   "execution_count": 3,
   "id": "dfdd03d4-8ada-40c2-9b28-5d1425874938",
   "metadata": {},
   "outputs": [
    {
     "name": "stdout",
     "output_type": "stream",
     "text": [
      "[500, 400, 300, 200, 100]\n"
     ]
    }
   ],
   "source": [
    "list2=[]\n",
    "\n",
    "for i in range(len(list1)-1,-1,-1):\n",
    "    list2.append(list1[i])\n",
    "print(list2)"
   ]
  },
  {
   "cell_type": "code",
   "execution_count": 4,
   "id": "3b02c541-2291-41d6-951e-d3875bcc43c5",
   "metadata": {},
   "outputs": [
    {
     "data": {
      "text/plain": [
       "[500, 400, 300, 200, 100]"
      ]
     },
     "execution_count": 4,
     "metadata": {},
     "output_type": "execute_result"
    }
   ],
   "source": [
    "list1[::-1]"
   ]
  },
  {
   "cell_type": "code",
   "execution_count": 5,
   "id": "7cb67cfa-3671-4ccf-8b87-7e4804bdc79d",
   "metadata": {},
   "outputs": [
    {
     "name": "stdout",
     "output_type": "stream",
     "text": [
      "['My', 'name', 'is', 'kelly']\n"
     ]
    }
   ],
   "source": [
    "#Exercise 2: Concatenate two lists index-wise\n",
    "list1=[\"M\",\"na\",\"i\",\"ke\"]\n",
    "list2=[\"y\",\"me\",\"s\",\"lly\"]\n",
    "list3 =[]\n",
    "x=0\n",
    "for i in list1:\n",
    "        list3.append(i+list2[x])\n",
    "        x=x+1\n",
    "print(list3)\n"
   ]
  },
  {
   "cell_type": "code",
   "execution_count": 7,
   "id": "ce5e72fa-6549-498c-86c5-eb49a802821a",
   "metadata": {},
   "outputs": [
    {
     "name": "stdout",
     "output_type": "stream",
     "text": [
      "['My', 'name', 'is', 'kelly']\n"
     ]
    }
   ],
   "source": [
    "#Exercise 2: Concatenate two lists index-wise\n",
    "list1=[\"M\",\"na\",\"i\",\"ke\"]\n",
    "list2=[\"y\",\"me\",\"s\",\"lly\"]\n",
    "list3 =[]\n",
    "for i in range(len(list1)):\n",
    "        list3.append(list1[i]+list2[i])\n",
    "        #x=x+1\n",
    "print(list3)\n"
   ]
  },
  {
   "cell_type": "code",
   "execution_count": 6,
   "id": "d001e86c-28b6-48be-9ac3-99b1c1df064e",
   "metadata": {},
   "outputs": [
    {
     "ename": "NameError",
     "evalue": "name 'j' is not defined",
     "output_type": "error",
     "traceback": [
      "\u001b[1;31m---------------------------------------------------------------------------\u001b[0m",
      "\u001b[1;31mNameError\u001b[0m                                 Traceback (most recent call last)",
      "\u001b[1;32m<ipython-input-6-60ee799ecf0f>\u001b[0m in \u001b[0;36m<module>\u001b[1;34m\u001b[0m\n\u001b[1;32m----> 1\u001b[1;33m \u001b[0mi\u001b[0m\u001b[1;33m+\u001b[0m\u001b[0mj\u001b[0m\u001b[1;33m\u001b[0m\u001b[1;33m\u001b[0m\u001b[0m\n\u001b[0m",
      "\u001b[1;31mNameError\u001b[0m: name 'j' is not defined"
     ]
    }
   ],
   "source": [
    "i+j"
   ]
  },
  {
   "cell_type": "code",
   "execution_count": null,
   "id": "d659edf4-a01d-4c35-9bcc-8b2e509336bb",
   "metadata": {},
   "outputs": [],
   "source": [
    "#Exercise 3: Turn every item of a list into its square\n",
    "number=[1,2,3,4,5,6,7]\n",
    "lst=[]\n",
    "for i in number:\n",
    "    number=i**2\n",
    "    lst.ap\n",
    "    pend(number)\n",
    "    \n",
    "print(lst)"
   ]
  },
  {
   "cell_type": "code",
   "execution_count": 9,
   "id": "91c3d18a-2c6f-4291-a6a7-41e4825fb893",
   "metadata": {},
   "outputs": [
    {
     "name": "stdout",
     "output_type": "stream",
     "text": [
      "Hello Dear\n",
      "Hello Sir\n",
      "take Dear\n",
      "take Sir\n"
     ]
    }
   ],
   "source": [
    "#Exercise 4: Concatenate two lists in the following order\n",
    "\n",
    "\n",
    "\n",
    "list1=[\"Hello\",\"take\"]\n",
    "list2=[\"Dear\",\"Sir\"]\n",
    "list3=[]\n",
    "\n",
    "\n",
    "#Expected:-['Hello Dear', 'Hello Sir', 'take Dear', 'take Sir']\n",
    "#first we have to take list1 and add with list2.with individual index \n",
    "\n",
    "for i in list1:\n",
    "    for j in list2:\n",
    "        print(i +\" \"+j)\n",
    "        \n",
    "        #print(i+\" \"+j)\n",
    "#     a=0\n",
    "#     #list1=list1+list2\n",
    "#     #print(list1)\n",
    "#     a=a+1"
   ]
  },
  {
   "cell_type": "code",
   "execution_count": 11,
   "id": "1f3c4dfa-425b-44ca-8f52-b012b96b7a4b",
   "metadata": {},
   "outputs": [
    {
     "name": "stdout",
     "output_type": "stream",
     "text": [
      "150\n"
     ]
    }
   ],
   "source": [
    " \"\"\"story\n",
    " in list we have to add with each number.\n",
    " for that first we need list then iterate with each number in list to add\"\"\"\n",
    "\n",
    "list3=[-20,30,-40,50,60,70]\n",
    "a=0\n",
    "\n",
    "for i in list3:\n",
    "   # list3=i+a\n",
    "    a=a+i\n",
    "    \n",
    "   \n",
    " print(a)"
   ]
  },
  {
   "cell_type": "code",
   "execution_count": 12,
   "id": "7baa4adb-3f83-44aa-a51c-12169954990b",
   "metadata": {},
   "outputs": [
    {
     "name": "stdout",
     "output_type": "stream",
     "text": [
      "51840\n"
     ]
    }
   ],
   "source": [
    "\"\"\"In this we have to multiply each number with precend number in the list\n",
    "so first we make loop to iterate each number one by one after that we have use operator with condition and then print the statement\"\"\"\n",
    "made=[2,3,4,5,6,8,9]\n",
    "a=1\n",
    "for i in made:\n",
    "    a=a*i\n",
    "print(a)\n",
    "   \n"
   ]
  },
  {
   "cell_type": "code",
   "execution_count": null,
   "id": "5d960728-9765-4785-b7b6-f12671cbf0b3",
   "metadata": {},
   "outputs": [],
   "source": [
    "\"\"\"First we have make list with positive int from that int we have \n",
    "to sort largest number from the list\"\"\"\n",
    "lim=[10,20,1,3055,3939,8976,10101,2000,4598,6789,4892]\n",
    "lim.sort()\n",
    "print(\"Largest number in the list is:\",lim[-1])\n",
    "print(lim)"
   ]
  },
  {
   "cell_type": "code",
   "execution_count": null,
   "id": "d156f4ba-b9a1-4d4d-8870-4ca8febdee6c",
   "metadata": {},
   "outputs": [],
   "source": [
    "# Write a Python program to get the smallest number from a list.\n",
    "lim=[10,20,3055,1,3939,8976,10101,2000,4598,6789,4892]\n",
    "lim.sort()\n",
    "print(lim)\n",
    "print(\"smallest number in the list is\",lim[0])"
   ]
  },
  {
   "cell_type": "code",
   "execution_count": 14,
   "id": "810146ed-cde1-45a5-9669-dd61a437cc0d",
   "metadata": {},
   "outputs": [
    {
     "name": "stdout",
     "output_type": "stream",
     "text": [
      "10 400\n",
      "20 300\n",
      "30 200\n",
      "40 100\n"
     ]
    }
   ],
   "source": [
    "list_1=[10,20,30,40]\n",
    "list_2=[100,200,300,400]\n",
    "x=0\n",
    "for i in range(len(list_1)):\n",
    "    x=x-1\n",
    "    \n",
    "    print(list_1[i],list_2[x])\n",
    "   \n",
    "    \n",
    "        \n",
    "\n",
    "\n",
    "            \n",
    "\n",
    "\n",
    "    \n",
    "\n",
    "       \n",
    "    \n",
    "   \n",
    "    \n",
    "    \n"
   ]
  },
  {
   "cell_type": "markdown",
   "id": "20ebad39-cb30-496a-97bb-84e2714dff69",
   "metadata": {},
   "source": [
    "## "
   ]
  },
  {
   "cell_type": "code",
   "execution_count": 13,
   "id": "20eb981b-98ab-4d59-a0ce-4ad719ec2f7a",
   "metadata": {},
   "outputs": [
    {
     "name": "stdout",
     "output_type": "stream",
     "text": [
      "['Mike', 'Emma', 'Kelly', 'Brad']\n"
     ]
    }
   ],
   "source": [
    "# Remove empty strings from the list of strings\n",
    "\n",
    "list1 = [\"Mike\", \"\", \"Emma\", \"Kelly\", \"\", \"Brad\"]\n",
    "for i in list1:\n",
    "    if i==\"\":\n",
    "        list1.remove(i)\n",
    "print(list1)"
   ]
  },
  {
   "cell_type": "code",
   "execution_count": null,
   "id": "928f9919-9556-42c6-a88b-24e99a67928f",
   "metadata": {},
   "outputs": [],
   "source": [
    "#Add new item to list after a specified item\n",
    "list1[2][2].append(7000)\n",
    "print(list1)"
   ]
  },
  {
   "cell_type": "code",
   "execution_count": null,
   "id": "ff404216-b01f-4569-8c6a-38e689b7e2b6",
   "metadata": {},
   "outputs": [],
   "source": [
    "#Exercise 8: Extend nested list by adding the sublist\n",
    "list1 = [\"a\", \"b\", [\"c\", [\"d\", \"e\", [\"f\", \"g\"], \"k\"], \"l\"], \"m\", \"n\"]\n",
    "sub_list = [\"h\", \"i\", \"j\"]\n",
    "\n",
    "list1[2][1][2].extend(sub_list)\n",
    "print(list1)"
   ]
  },
  {
   "cell_type": "code",
   "execution_count": null,
   "id": "5997f7c0-484d-494a-8ebd-f1254a0baf70",
   "metadata": {},
   "outputs": [],
   "source": [
    "# "
   ]
  },
  {
   "cell_type": "code",
   "execution_count": null,
   "id": "392e7a17-fa6c-4c24-91fb-40b53b87ab6d",
   "metadata": {},
   "outputs": [],
   "source": [
    "#Exercise 9: Replace list’s item with new value if found\n",
    "list1 = [5, 10, 15, 20, 25, 50, 20]\n",
    "list1[3]=200\n",
    "print(list1)"
   ]
  },
  {
   "cell_type": "code",
   "execution_count": null,
   "id": "f9bf8c54-599f-4c9c-a868-2a57d6a07bf6",
   "metadata": {},
   "outputs": [],
   "source": [
    "dir(list)"
   ]
  },
  {
   "cell_type": "code",
   "execution_count": null,
   "id": "9f1e46bf-d6d8-4a83-8e8e-4537933d513c",
   "metadata": {},
   "outputs": [],
   "source": [
    "list1 = [5, 10, 15, 20, 25, 50, 20]\n",
    "index1=list1.index(20)\n",
    "\n",
    "list1[index1]=200\n",
    "print(list1)"
   ]
  },
  {
   "cell_type": "code",
   "execution_count": 15,
   "id": "befea31e-4720-40ba-b8ed-d7a7e11df5ad",
   "metadata": {},
   "outputs": [
    {
     "name": "stdout",
     "output_type": "stream",
     "text": [
      "[5, 15, 25, 50]\n"
     ]
    }
   ],
   "source": [
    "#Exercise 10: Remove all occurrences of a specific item from a list.\n",
    "list1 = [5, 20, 15, 20, 25, 50, 20]\n",
    "for i in list1:\n",
    "    if i==20:\n",
    "        list1.remove(i)\n",
    "print(list1)\n",
    "    "
   ]
  },
  {
   "cell_type": "markdown",
   "id": "f7396572-4eaf-4619-b4cf-33fc5286631f",
   "metadata": {},
   "source": [
    "End Excerice"
   ]
  },
  {
   "cell_type": "code",
   "execution_count": 6,
   "id": "e073dd26-6144-4f8e-9398-0e2bdfc4147a",
   "metadata": {},
   "outputs": [
    {
     "name": "stdout",
     "output_type": "stream",
     "text": [
      "[[1, 5, 9], [2, 6, 10], [3, 7, 11], [4, 8, 12]]\n"
     ]
    }
   ],
   "source": [
    "matrix = [\n",
    "    [1, 2, 3, 4],\n",
    "    [5, 6, 7, 8],\n",
    "    [9, 10, 11, 12]\n",
    "]\n",
    "transpose=[]\n",
    "for i in range(len(matrix)+1):\n",
    "    lst=[]\n",
    "    for row in matrix:\n",
    "        lst.append(row[i])\n",
    "    transpose.append(lst)\n",
    "print(transpose)"
   ]
  },
  {
   "cell_type": "markdown",
   "id": "68de2a77-43b9-48d4-9236-36fb183ba3c3",
   "metadata": {},
   "source": [
    "# list comprehension\n"
   ]
  },
  {
   "cell_type": "code",
   "execution_count": null,
   "id": "e6bd56a5-65b4-4b39-850b-43256d2ca8b6",
   "metadata": {},
   "outputs": [],
   "source": []
  },
  {
   "cell_type": "code",
   "execution_count": null,
   "id": "263b5127-3f39-4ba8-ac4a-68f56d37d727",
   "metadata": {},
   "outputs": [],
   "source": [
    "matrix = [\n",
    "    [1, 2, 3, 4],\n",
    "    [5, 6, 7, 8],\n",
    "    [9, 10, 11, 12]\n",
    "]"
   ]
  },
  {
   "cell_type": "code",
   "execution_count": 8,
   "id": "482be385-c0ba-4905-858b-86326b156b6b",
   "metadata": {},
   "outputs": [
    {
     "name": "stdout",
     "output_type": "stream",
     "text": [
      "[[1, 5, 9], [2, 6, 10], [3, 7, 11], [4, 8, 12]]\n"
     ]
    }
   ],
   "source": [
    "transposed = [[row[i] for row in matrix] for i in range(4)]    #drawback: decrease readibility\n",
    "print(transposed)"
   ]
  },
  {
   "cell_type": "code",
   "execution_count": 9,
   "id": "6267f8ad-ca37-4f01-8110-37900d5aaa75",
   "metadata": {},
   "outputs": [],
   "source": [
    "def print_name(name):\n",
    "    \"\"\" This function print the name\n",
    "    \"\"\"\n",
    "    string_1=\"hello \"+ str(name)+ \" how are you\"\n",
    "    print(string_1)"
   ]
  },
  {
   "cell_type": "code",
   "execution_count": 10,
   "id": "da67dc56-9a6c-4e13-be88-11fba42d4716",
   "metadata": {},
   "outputs": [
    {
     "name": "stdout",
     "output_type": "stream",
     "text": [
      "hello hemant how are you\n"
     ]
    }
   ],
   "source": [
    "name1=\"hemant\"\n",
    "id101=print_name(name1)"
   ]
  },
  {
   "cell_type": "code",
   "execution_count": 11,
   "id": "a444f7c6-3ae1-480e-9063-3be0327b8796",
   "metadata": {},
   "outputs": [
    {
     "name": "stdout",
     "output_type": "stream",
     "text": [
      "None\n"
     ]
    }
   ],
   "source": [
    "print(id101)"
   ]
  },
  {
   "cell_type": "code",
   "execution_count": null,
   "id": "aa273817-3c00-49e0-9f5d-da7734705060",
   "metadata": {},
   "outputs": [],
   "source": []
  },
  {
   "cell_type": "code",
   "execution_count": null,
   "id": "b6ea55c6-f535-4d8d-8af8-74ec3d754fad",
   "metadata": {},
   "outputs": [],
   "source": []
  }
 ],
 "metadata": {
  "kernelspec": {
   "display_name": "Python 3",
   "language": "python",
   "name": "python3"
  },
  "language_info": {
   "codemirror_mode": {
    "name": "ipython",
    "version": 3
   },
   "file_extension": ".py",
   "mimetype": "text/x-python",
   "name": "python",
   "nbconvert_exporter": "python",
   "pygments_lexer": "ipython3",
   "version": "3.8.8"
  }
 },
 "nbformat": 4,
 "nbformat_minor": 5
}
