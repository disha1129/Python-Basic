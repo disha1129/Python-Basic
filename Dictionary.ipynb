{
 "cells": [
  {
   "cell_type": "markdown",
   "id": "eb6f2475-efa5-485a-9c2b-8a2d0ff2af00",
   "metadata": {},
   "source": [
    "# Dictionary Exercise"
   ]
  },
  {
   "cell_type": "code",
   "execution_count": null,
   "id": "e750cb68-c92d-49df-9a8e-2254b813a9b8",
   "metadata": {},
   "outputs": [],
   "source": []
  },
  {
   "cell_type": "code",
   "execution_count": 48,
   "id": "7c1a4da7-c9a2-41f0-add7-67bf17c65b0d",
   "metadata": {},
   "outputs": [
    {
     "name": "stdout",
     "output_type": "stream",
     "text": [
      "{'Ten': 10, 'Twenty': 20, 'Thirty': 30}\n"
     ]
    }
   ],
   "source": [
    "# Exercise 1: Convert two lists into a dictionary\n",
    "keys = ['Ten', 'Twenty', 'Thirty']\n",
    "values = [10, 20, 30]\n",
    "dict_1=dict()\n",
    "for i in range(len(keys)):\n",
    "       dict_1.update({keys[i]: values[i]})\n",
    "\n",
    "print(dict_1)\n",
    "    \n",
    "   \n",
    "    "
   ]
  },
  {
   "cell_type": "code",
   "execution_count": 14,
   "id": "7f428ebb-1059-4ea2-bdad-8a465fadc295",
   "metadata": {},
   "outputs": [
    {
     "name": "stdout",
     "output_type": "stream",
     "text": [
      "{'Ten': 10, 'Twenty': 20, 'Thirty': 30}\n"
     ]
    }
   ],
   "source": [
    "# Exercise 1: Convert two lists into a dictionary\n",
    "keys = ['Ten', 'Twenty', 'Thirty']\n",
    "values = [10, 20, 30]\n",
    "dict_1=dict()\n",
    "for i in range(len(keys)):\n",
    "       dict_1[keys[i]]=values[i]\n",
    "\n",
    "print(dict_1)"
   ]
  },
  {
   "cell_type": "code",
   "execution_count": 53,
   "id": "d1000653-4f03-496e-b8f0-fa8ae3699142",
   "metadata": {},
   "outputs": [
    {
     "name": "stdout",
     "output_type": "stream",
     "text": [
      "{'Ten': 20, 'Thirty': 30, 'Fourty': 40, 'Fifty': 50}\n"
     ]
    }
   ],
   "source": [
    "# Exercise 2: Merge two Python dictionaries into one\n",
    "dict1 = {'Ten': 10, 'Ten': 20, 'Thirty': 30}\n",
    "dict2 = {'Thirty': 30, 'Fourty': 40, 'Fifty': 50}\n",
    "dict1.update(dict2)\n",
    "print(dict1)"
   ]
  },
  {
   "cell_type": "code",
   "execution_count": 59,
   "id": "0a4797c8-8fea-43ee-8ad4-b9c76f38b86f",
   "metadata": {},
   "outputs": [
    {
     "data": {
      "text/plain": [
       "dict_keys(['Ten', 'Thirty', 'Fourty', 'Fifty'])"
      ]
     },
     "execution_count": 59,
     "metadata": {},
     "output_type": "execute_result"
    }
   ],
   "source": [
    "dict1.keys()"
   ]
  },
  {
   "cell_type": "code",
   "execution_count": 65,
   "id": "466c252e-14bf-4416-aeea-b7c813880bdb",
   "metadata": {},
   "outputs": [],
   "source": [
    "#Exercise 3: Print the value of key ‘history’ from the below\n",
    "sampleDict = {\n",
    "    \"class\": {\n",
    "        \"student\": {\n",
    "            \"name\": \"Mike\",\n",
    "            \"marks\": {\n",
    "                \"physics\": 70,\n",
    "                \"history\": 80\n",
    "            }\n",
    "        }\n",
    "    }\n",
    "}"
   ]
  },
  {
   "cell_type": "code",
   "execution_count": 66,
   "id": "947b440c-50e5-460b-98b2-00ac50ad3ae7",
   "metadata": {},
   "outputs": [
    {
     "name": "stdout",
     "output_type": "stream",
     "text": [
      "{'class': {'student': {'name': 'Mike', 'marks': {'physics': 70, 'history': 80}}}}\n"
     ]
    }
   ],
   "source": [
    "print(sampleDict)"
   ]
  },
  {
   "cell_type": "code",
   "execution_count": 73,
   "id": "075dc00e-9dd3-418b-89f2-5abddcb5a9e6",
   "metadata": {},
   "outputs": [
    {
     "data": {
      "text/plain": [
       "80"
      ]
     },
     "execution_count": 73,
     "metadata": {},
     "output_type": "execute_result"
    }
   ],
   "source": [
    "sampleDict[\"class\"][\"student\"][\"marks\"][\"history\"]"
   ]
  },
  {
   "cell_type": "code",
   "execution_count": 101,
   "id": "12e0e220-fc35-4725-a959-53ee7e1f0b28",
   "metadata": {},
   "outputs": [
    {
     "name": "stdout",
     "output_type": "stream",
     "text": [
      "Kelly {'designation': 'Developer', 'salary': 8000}\n",
      "Emma {'designation': 'Developer', 'salary': 8000}\n"
     ]
    }
   ],
   "source": [
    "employees = ['Kelly', 'Emma']\n",
    "defaults = {\"designation\": 'Developer', \"salary\": 8000}\n",
    "dict_1=dict()\n",
    "for i in range(len(employees)):\n",
    "    print(employees[i],defaults)\n",
    "    \n",
    "    \n",
    "    "
   ]
  },
  {
   "cell_type": "code",
   "execution_count": 100,
   "id": "64f4cd8f-6b39-4ef4-b0d5-60ea7b2b708d",
   "metadata": {},
   "outputs": [
    {
     "data": {
      "text/plain": [
       "{'Kelly': {'designation': 'Developer', 'salary': 8000},\n",
       " 'Emma': {'designation': 'Developer', 'salary': 8000}}"
      ]
     },
     "execution_count": 100,
     "metadata": {},
     "output_type": "execute_result"
    }
   ],
   "source": [
    "dict_1=dict.fromkeys(employees,defaults)\n",
    "dict_1"
   ]
  },
  {
   "cell_type": "code",
   "execution_count": 73,
   "id": "c7ad7444-633f-4e18-bd60-3013a3010b3b",
   "metadata": {},
   "outputs": [
    {
     "name": "stdout",
     "output_type": "stream",
     "text": [
      "<class 'dict'>\n"
     ]
    }
   ],
   "source": [
    "#Exercise 5: Create a dictionary by extracting the keys from a given dictionary\n",
    "sample_dict = {\n",
    "    \"name\": \"Kelly\",\n",
    "    \"age\": 25,\n",
    "    \"salary\": 8000,\n",
    "    \"city\": \"New york\"}\n",
    "print(type(sample_dict))\n",
    "keys=[ \"name\",\"salary\"]\n",
    "# for i in  keys:\n",
    "#     sample_dict.pop(i)\n",
    "# print(sample_dict)"
   ]
  },
  {
   "cell_type": "code",
   "execution_count": 99,
   "id": "d9ee8cf9-f3b1-4d97-9e7c-09f5f6bba093",
   "metadata": {},
   "outputs": [
    {
     "name": "stdout",
     "output_type": "stream",
     "text": [
      "{'name': 'Kelly', 'salary': 8000}\n"
     ]
    }
   ],
   "source": [
    "dict_1={}\n",
    "for i in keys:\n",
    "    dict_1[i]=sample_dict[i]\n",
    "\n",
    "print(dict_1)\n",
    "    \n",
    "        \n",
    "    "
   ]
  },
  {
   "cell_type": "code",
   "execution_count": 94,
   "id": "ef488264-4398-4bd0-a9fa-5640a9c3e2ec",
   "metadata": {},
   "outputs": [
    {
     "name": "stdout",
     "output_type": "stream",
     "text": [
      "['name', 'age', 'salary', 'city']\n"
     ]
    }
   ],
   "source": [
    "# dict_1={}\n",
    "# sample_key=list(sample_dict.keys())\n",
    "# sample_values=list(sample_dict.values())\n",
    "# # for i in sample_key:\n",
    "# #     dict_1[(i:sample_values[0])]\n",
    "# #     print(sample_key)\n",
    "# print(sample_key)\n",
    "    \n",
    "    \n",
    "    \n",
    "    \n",
    "    \n",
    "    "
   ]
  },
  {
   "cell_type": "code",
   "execution_count": 159,
   "id": "c1a94ce5-76e5-4a1c-9fc8-ff9c7595802e",
   "metadata": {},
   "outputs": [
    {
     "name": "stdout",
     "output_type": "stream",
     "text": [
      "200 is present in dict\n"
     ]
    }
   ],
   "source": [
    "#Exercise 7: Check if a value exists in a dictionary\n",
    "sample_dict = {'a': 100, 'b': 200, 'c': 300}\n",
    "\n",
    "if 200 in sample_dict.values():\n",
    "    print(\"200 is present in dict\")"
   ]
  },
  {
   "cell_type": "code",
   "execution_count": 1,
   "id": "b5ae8281-5916-4580-858a-ec9a26d8e5d0",
   "metadata": {},
   "outputs": [],
   "source": [
    "#Exercise 8: Rename key of a dictionary\n",
    "sample_dict = {\n",
    "  \"name\": \"Kelly\",\n",
    "  \"age\":25,\n",
    "  \"salary\": 8000,\n",
    "  \"city\": \"New york\"\n",
    "}\n"
   ]
  },
  {
   "cell_type": "code",
   "execution_count": 2,
   "id": "7661bfd0-dd88-4c30-b77c-e8960bf1a745",
   "metadata": {},
   "outputs": [
    {
     "name": "stdout",
     "output_type": "stream",
     "text": [
      "{'name': 'Kelly', 'age': 25, 'salary': 8000, 'location': 'New york'}\n"
     ]
    }
   ],
   "source": [
    "sample_dict[\"location\"]=sample_dict.pop(\"city\")\n",
    "print(sample_dict)"
   ]
  },
  {
   "cell_type": "code",
   "execution_count": 10,
   "id": "81d44af1-216d-46f8-a2c4-b7c2ac68e1b2",
   "metadata": {},
   "outputs": [
    {
     "name": "stdout",
     "output_type": "stream",
     "text": [
      "Math\n"
     ]
    }
   ],
   "source": [
    "#Exercise 9: Get the key of a minimum value from the following dictionary\n",
    "sample_dict = {\n",
    "  'Physics': 82,\n",
    "  'Math': 65,\n",
    "  'history': 75\n",
    "} \n",
    "list1=[]\n",
    "print(min(sample_dict))\n",
    "# #for i in sample_dict.values():\n",
    "#     list1.append(i)\n",
    "# #print(list1)   \n",
    "# list1.min()\n",
    "    "
   ]
  },
  {
   "cell_type": "code",
   "execution_count": 178,
   "id": "5918171d-31a7-4860-8f45-8037627fcc62",
   "metadata": {},
   "outputs": [],
   "source": [
    "#Exercise 10: Change value of a key in a nested dictionary\n",
    "sample_dict = {\n",
    "    'emp1': {'name': 'Jhon', 'salary': 7500},\n",
    "    'emp2': {'name': 'Emma', 'salary': 8000},\n",
    "    'emp3': {'name': 'Brad', 'salary': 500}\n",
    "}\n",
    "sample_dict['emp3']['salary']=8500\n"
   ]
  },
  {
   "cell_type": "code",
   "execution_count": 180,
   "id": "d08c9a8c-2c83-4e49-ade9-154ed585666e",
   "metadata": {},
   "outputs": [
    {
     "data": {
      "text/plain": [
       "{'emp1': {'name': 'Jhon', 'salary': 7500},\n",
       " 'emp2': {'name': 'Emma', 'salary': 8000},\n",
       " 'emp3': {'name': 'Brad', 'salary': 8500}}"
      ]
     },
     "execution_count": 180,
     "metadata": {},
     "output_type": "execute_result"
    }
   ],
   "source": [
    "sample_dict"
   ]
  },
  {
   "cell_type": "code",
   "execution_count": 3,
   "id": "91ef8051-8703-4fa6-85ad-7f6927059c76",
   "metadata": {},
   "outputs": [],
   "source": [
    "# Write a Python script to sort (ascending and descending) a dictionary by value\n",
    "sample_dict = {\n",
    "    'emp1': {'name': 'Jhon', 'salary': 7500},\n",
    "    'emp2': {'name': 'Emma', 'salary': 8000},\n",
    "    'emp3': {'name': 'Brad', 'salary': 500}\n",
    "}   \n"
   ]
  },
  {
   "cell_type": "code",
   "execution_count": 23,
   "id": "e198ffa0-4c9a-4893-bca8-6ad9335d73ba",
   "metadata": {},
   "outputs": [],
   "source": [
    "# Exercise 3: Print the value of key ‘history’ from the below dict\n",
    "sampleDict = {\n",
    "    \"class\": {\n",
    "        \"student\": {\n",
    "            \"name\": \"Mike\",\n",
    "            \"marks\": {\n",
    "                \"physics\": 70,\n",
    "                \"history\": 80\n",
    "            }\n",
    "        }\n",
    "    }\n",
    "}"
   ]
  },
  {
   "cell_type": "code",
   "execution_count": 26,
   "id": "5f22a80a-31e8-4468-b07f-f742da5304fa",
   "metadata": {},
   "outputs": [
    {
     "name": "stdout",
     "output_type": "stream",
     "text": [
      "80\n"
     ]
    }
   ],
   "source": [
    "print(sampleDict[\"class\"][\"student\"][\"marks\"][\"history\"])"
   ]
  },
  {
   "cell_type": "code",
   "execution_count": 49,
   "id": "c62e2684-91e5-4628-815c-09d7dea41ae4",
   "metadata": {},
   "outputs": [
    {
     "name": "stdout",
     "output_type": "stream",
     "text": [
      "{'Kelly': {'designation': 'Developer', 'salary': 8000}, 'Emma': {'designation': 'Developer', 'salary': 8000}}\n"
     ]
    }
   ],
   "source": [
    "# Exercise 4: Initialize dictionary with default values\n",
    "employees = ['Kelly', 'Emma']\n",
    "defaults = {\"designation\": 'Developer', \"salary\": 8000}\n",
    "res=dict.fromkeys(employees,defaults)\n",
    "    \n",
    "print(res)\n",
    "\n"
   ]
  },
  {
   "cell_type": "code",
   "execution_count": 52,
   "id": "59ddcbf0-37c1-420a-8025-11e3f60edba6",
   "metadata": {},
   "outputs": [
    {
     "name": "stdout",
     "output_type": "stream",
     "text": [
      "{'name': 'Kelly', 'salary': 8000}\n"
     ]
    }
   ],
   "source": [
    "# Exercise 5: Create a dictionary by extracting the keys from a given dictionary\n",
    "sample_dict = {\n",
    "    \"name\": \"Kelly\",\n",
    "    \"age\": 25,\n",
    "    \"salary\": 8000,\n",
    "    \"city\": \"New york\"}\n",
    "\n",
    "# Keys to extract\n",
    "keys = [\"name\", \"salary\"]\n",
    "\n",
    "for i in keys:\n",
    "    new_dict={i:sample_dict[i] for i in keys}\n",
    "print(new_dict)"
   ]
  },
  {
   "cell_type": "code",
   "execution_count": 63,
   "id": "f0af5bb3-e148-48de-9f8e-bdc87a6cba97",
   "metadata": {},
   "outputs": [],
   "source": [
    "# Exercise 6: Delete a list of keys from a dictionary\n",
    "sample_dict = {\n",
    "    \"name\": \"Kelly\",\n",
    "    \"age\": 25,\n",
    "    \"salary\": 8000,\n",
    "    \"city\": \"New york\"\n",
    "}\n",
    "\n",
    "# Keys to remove\n",
    "keys = [\"name\", \"salary\"]"
   ]
  },
  {
   "cell_type": "code",
   "execution_count": 64,
   "id": "0b7b0b29-140b-4fad-a68d-2f486ed3eee3",
   "metadata": {},
   "outputs": [
    {
     "name": "stdout",
     "output_type": "stream",
     "text": [
      "{'age': 25, 'city': 'New york'}\n"
     ]
    }
   ],
   "source": [
    "for i in keys:\n",
    "    sample_dict.pop(i)\n",
    "print(sample_dict)\n",
    "    \n",
    "       \n",
    "    "
   ]
  },
  {
   "cell_type": "code",
   "execution_count": 68,
   "id": "798d25fa-e987-404a-a5c4-9b058ec7ff56",
   "metadata": {},
   "outputs": [
    {
     "name": "stdout",
     "output_type": "stream",
     "text": [
      "200 is present\n"
     ]
    }
   ],
   "source": [
    "# Exercise 7: Check if a value exists in a dictionary\n",
    "sample_dict = {'a': 100, 'b': 200, 'c': 300}\n",
    "if  200 in sample_dict.values():\n",
    "    print(\"200 is present\")\n"
   ]
  },
  {
   "cell_type": "code",
   "execution_count": 70,
   "id": "e26c05a9-6221-4264-b1ce-4240c07f3da3",
   "metadata": {},
   "outputs": [
    {
     "name": "stdout",
     "output_type": "stream",
     "text": [
      "c is present\n"
     ]
    }
   ],
   "source": [
    "sample_dict = {'a': 100, 'b': 200, 'c': 300}\n",
    "if \"c\" in sample_dict.keys():\n",
    "    print(\"c is present\")\n"
   ]
  },
  {
   "cell_type": "code",
   "execution_count": 72,
   "id": "c8a1d91e-4fd4-474d-a34f-6f71d1c37fb1",
   "metadata": {},
   "outputs": [],
   "source": [
    "# Exercise 8: Rename key of a dictionary\n",
    "# Write a program to rename a key city to a location in the following dictionary.\n",
    "\n",
    "\n",
    "sample_dict = {\n",
    "  \"name\": \"Kelly\",\n",
    "  \"age\":25,\n",
    "  \"salary\": 8000,\n",
    "  \"city\": \"New york\"\n",
    "}"
   ]
  },
  {
   "cell_type": "code",
   "execution_count": 76,
   "id": "4b15a7b8-1104-474a-a983-ce86f5dba82c",
   "metadata": {},
   "outputs": [],
   "source": [
    "sample_dict[\"Location\"]=sample_dict.pop(\"city\")"
   ]
  },
  {
   "cell_type": "code",
   "execution_count": 77,
   "id": "20587a86-7db2-4bdf-afb6-2033a6366288",
   "metadata": {},
   "outputs": [
    {
     "data": {
      "text/plain": [
       "{'name': 'Kelly', 'age': 25, 'salary': 8000, 'Location': 'New york'}"
      ]
     },
     "execution_count": 77,
     "metadata": {},
     "output_type": "execute_result"
    }
   ],
   "source": [
    "sample_dict"
   ]
  },
  {
   "cell_type": "code",
   "execution_count": 78,
   "id": "f2c286dd-f5db-48a7-90a4-2869579ec175",
   "metadata": {},
   "outputs": [],
   "source": [
    "# Exercise 9: Get the key of a minimum value from the following dictionary\n",
    "sample_dict = {\n",
    "  'Physics': 82,\n",
    "  'Math': 65,\n",
    "  'history': 75\n",
    "}"
   ]
  },
  {
   "cell_type": "code",
   "execution_count": 83,
   "id": "f85e78ff-5844-4c3f-8fb0-e97c30a49b99",
   "metadata": {},
   "outputs": [],
   "source": [
    "for i in sample_dict:\n",
    "    min(i)"
   ]
  },
  {
   "cell_type": "code",
   "execution_count": null,
   "id": "9c0bb126-8242-430d-aae6-13845168110b",
   "metadata": {},
   "outputs": [],
   "source": []
  },
  {
   "cell_type": "code",
   "execution_count": null,
   "id": "b669724a-d5b7-4dab-afd3-84ac04fbc69d",
   "metadata": {},
   "outputs": [],
   "source": []
  },
  {
   "cell_type": "code",
   "execution_count": null,
   "id": "309e0fee-f7b4-4acf-b93b-cc04e590b5da",
   "metadata": {},
   "outputs": [],
   "source": []
  },
  {
   "cell_type": "code",
   "execution_count": 56,
   "id": "88a6f8e2-2298-4b06-a764-3610a4cdca4c",
   "metadata": {},
   "outputs": [
    {
     "data": {
      "text/plain": [
       "['__class__',\n",
       " '__contains__',\n",
       " '__delattr__',\n",
       " '__delitem__',\n",
       " '__dir__',\n",
       " '__doc__',\n",
       " '__eq__',\n",
       " '__format__',\n",
       " '__ge__',\n",
       " '__getattribute__',\n",
       " '__getitem__',\n",
       " '__gt__',\n",
       " '__hash__',\n",
       " '__init__',\n",
       " '__init_subclass__',\n",
       " '__iter__',\n",
       " '__le__',\n",
       " '__len__',\n",
       " '__lt__',\n",
       " '__ne__',\n",
       " '__new__',\n",
       " '__reduce__',\n",
       " '__reduce_ex__',\n",
       " '__repr__',\n",
       " '__reversed__',\n",
       " '__setattr__',\n",
       " '__setitem__',\n",
       " '__sizeof__',\n",
       " '__str__',\n",
       " '__subclasshook__',\n",
       " 'clear',\n",
       " 'copy',\n",
       " 'fromkeys',\n",
       " 'get',\n",
       " 'items',\n",
       " 'keys',\n",
       " 'pop',\n",
       " 'popitem',\n",
       " 'setdefault',\n",
       " 'update',\n",
       " 'values']"
      ]
     },
     "execution_count": 56,
     "metadata": {},
     "output_type": "execute_result"
    }
   ],
   "source": [
    "dir(dict)"
   ]
  },
  {
   "cell_type": "code",
   "execution_count": null,
   "id": "eb94115f-6636-4aca-b621-f83435499c79",
   "metadata": {},
   "outputs": [],
   "source": []
  }
 ],
 "metadata": {
  "kernelspec": {
   "display_name": "Python 3",
   "language": "python",
   "name": "python3"
  },
  "language_info": {
   "codemirror_mode": {
    "name": "ipython",
    "version": 3
   },
   "file_extension": ".py",
   "mimetype": "text/x-python",
   "name": "python",
   "nbconvert_exporter": "python",
   "pygments_lexer": "ipython3",
   "version": "3.8.8"
  }
 },
 "nbformat": 4,
 "nbformat_minor": 5
}
