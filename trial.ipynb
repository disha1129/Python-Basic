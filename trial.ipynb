{
 "cells": [
  {
   "cell_type": "markdown",
   "id": "5df1e6dc-6de1-4921-8a4f-8dc700d843d9",
   "metadata": {},
   "source": [
    "# List"
   ]
  },
  {
   "cell_type": "code",
   "execution_count": null,
   "id": "2057c3f8-f830-4131-8cb5-b33de1935f53",
   "metadata": {},
   "outputs": [],
   "source": [
    "# Exercise 1: Write a program to create a list with random data types elements.\n",
    "# Hint\n",
    "# List should look like\n",
    "# [22, ‘PythonLobby’, 22.3]"
   ]
  },
  {
   "cell_type": "code",
   "execution_count": 6,
   "id": "f1e8d3af-facd-4be9-9069-8046de8ba347",
   "metadata": {},
   "outputs": [
    {
     "name": "stdout",
     "output_type": "stream",
     "text": [
      "22 <class 'int'>\n",
      "PythonLobby <class 'int'>\n",
      "22.3 <class 'int'>\n"
     ]
    }
   ],
   "source": [
    "list_1=[22, \"PythonLobby\", 22.3]\n",
    "for i in range(len(list_1)):\n",
    "    print(list_1[i],type(i))"
   ]
  },
  {
   "cell_type": "code",
   "execution_count": null,
   "id": "b72b61cd-2c6c-4758-a277-9ac23d89e78c",
   "metadata": {},
   "outputs": [],
   "source": [
    "# Exercise 2: Write a program to print all the elements of a list in single line.\n",
    "# Hint\n",
    "# num = [23,24,54,34]\n",
    "\n",
    "# Expected output\n",
    "# 23  24  54  34"
   ]
  },
  {
   "cell_type": "code",
   "execution_count": 10,
   "id": "dcc77968-9a20-43fd-ab6f-02e0f4ea6d5b",
   "metadata": {},
   "outputs": [
    {
     "name": "stdout",
     "output_type": "stream",
     "text": [
      "23 24 54 34 "
     ]
    }
   ],
   "source": [
    "num= [23,24,54,34]\n",
    "for i in range(len(num)):\n",
    "    print(num[i],end=\" \")"
   ]
  },
  {
   "cell_type": "code",
   "execution_count": 14,
   "id": "73b4f938-b1b1-43c4-83cb-c5bd3bafcdc2",
   "metadata": {},
   "outputs": [],
   "source": [
    "# Exercise 3: Write a program to count the number of items stored in a list.\n",
    "# Hint \n",
    "\n",
    "\n",
    "# Expected output\n",
    "# Total count of items are: 5\n",
    "    "
   ]
  },
  {
   "cell_type": "code",
   "execution_count": 24,
   "id": "a7fe6f41-ff47-4d91-b3c9-2d03403d1f4e",
   "metadata": {},
   "outputs": [
    {
     "name": "stdout",
     "output_type": "stream",
     "text": [
      "Total count of item are: 5\n"
     ]
    }
   ],
   "source": [
    "num = [23, 34, \"hello\", 32, 56]\n",
    "count=0\n",
    "for i in range(len(num)):\n",
    "    count=count+1\n",
    "print(\"Total count of item are:\",count)\n",
    "    "
   ]
  },
  {
   "cell_type": "code",
   "execution_count": 25,
   "id": "a4493e82-4f64-4a6a-a32f-cf9d0e7f1e17",
   "metadata": {},
   "outputs": [],
   "source": [
    "# Exercise 4: Write a program to reverse a list in Python.\n",
    "# Hint \n",
    "# num = [23, 34, ‘hello’, 32, 56]\n",
    "\n",
    "# Expected output\n",
    "# [56, 32, ‘hello’, 34, 23]"
   ]
  },
  {
   "cell_type": "code",
   "execution_count": 31,
   "id": "316c822f-8e64-4020-a117-729a60fb55b3",
   "metadata": {},
   "outputs": [
    {
     "name": "stdout",
     "output_type": "stream",
     "text": [
      "56\n",
      "32\n",
      "hello\n",
      "34\n",
      "23\n"
     ]
    }
   ],
   "source": [
    "num = [23, 34, \"hello\", 32, 56]\n",
    "x=0\n",
    "for i in range(len(num)):\n",
    "    x=x-1\n",
    "    print(num[x])"
   ]
  },
  {
   "cell_type": "code",
   "execution_count": null,
   "id": "ac8d1bbf-49ff-4bf2-9c62-02c5131e21fa",
   "metadata": {},
   "outputs": [],
   "source": [
    "# Exercise 6: Python program to remove an empty element from a list.\n",
    "# Hint \n",
    "# \n",
    "\n",
    "# Expected output\n",
    "# Result : [‘Hello’, 34, 45, 40]"
   ]
  },
  {
   "cell_type": "code",
   "execution_count": 43,
   "id": "0a9fb114-a164-4fdd-849c-05563eb8227a",
   "metadata": {},
   "outputs": [
    {
     "name": "stdout",
     "output_type": "stream",
     "text": [
      "['Hello', 34, 45, 40]\n"
     ]
    }
   ],
   "source": [
    "num = [\"Hello\", 34, 45, \"\", 40]\n",
    "for i in num:\n",
    "    if i==\"\":\n",
    "        num.remove(i)\n",
    "        print(num)"
   ]
  },
  {
   "cell_type": "code",
   "execution_count": null,
   "id": "ea797c32-08d5-4a6a-9e76-734ee7303364",
   "metadata": {},
   "outputs": [],
   "source": [
    "# Exercise 7: Python program to append an element to a list.\n",
    "# Hint \n",
    "# Given num = [23,45,67,8,9] Input:\n",
    "# Enter the item to insert: study\n",
    "\n",
    "# Expected output\n",
    "# Result: [23,45,67,8,9, ‘study’]"
   ]
  },
  {
   "cell_type": "code",
   "execution_count": 1,
   "id": "e1499c7d-355b-40e2-93f7-05bf63015178",
   "metadata": {},
   "outputs": [
    {
     "name": "stdout",
     "output_type": "stream",
     "text": [
      "[23, 45, 67, 8, 9, 'study']\n"
     ]
    }
   ],
   "source": [
    "num = [23,45,67,8,9]\n",
    "num.append(\"study\")\n",
    "print(num)"
   ]
  },
  {
   "cell_type": "code",
   "execution_count": null,
   "id": "b37a6090-0ec9-4125-a8fb-073d1f16f40f",
   "metadata": {},
   "outputs": [],
   "source": [
    "# Exercise 8: Write a program to display those items from a list that is divisible by 5.\n",
    "# Hint \n",
    "# Given num = [3, 5, 7, 9, 23, 15]\n",
    "\n",
    "# Expected output\n",
    "# Result: 5  15"
   ]
  },
  {
   "cell_type": "code",
   "execution_count": 5,
   "id": "1e264af2-f465-4b81-af57-d6947faf7bdd",
   "metadata": {},
   "outputs": [
    {
     "name": "stdout",
     "output_type": "stream",
     "text": [
      "5 15 "
     ]
    }
   ],
   "source": [
    "num = [3, 5, 7, 9, 23, 15]\n",
    "for i in  num:\n",
    "    if i%5==0:\n",
    "        print(i,end=' ')"
   ]
  },
  {
   "cell_type": "code",
   "execution_count": null,
   "id": "42dca0c5-8968-495d-a665-b50b99e4859e",
   "metadata": {},
   "outputs": [],
   "source": [
    "# Exercise 8: Write a program to sum all the elements of a list.\n",
    "# Hint \n",
    "# Given num = [2,3,2,4,7,8]\n",
    "\n",
    "#  Expected output\n",
    "# Sum of list items 26"
   ]
  },
  {
   "cell_type": "code",
   "execution_count": 19,
   "id": "6750ab7c-c164-431c-af79-fff434e5e978",
   "metadata": {},
   "outputs": [
    {
     "ename": "TypeError",
     "evalue": "unsupported operand type(s) for -: 'list' and 'int'",
     "output_type": "error",
     "traceback": [
      "\u001b[1;31m---------------------------------------------------------------------------\u001b[0m",
      "\u001b[1;31mTypeError\u001b[0m                                 Traceback (most recent call last)",
      "\u001b[1;32m<ipython-input-19-84d31a6183ba>\u001b[0m in \u001b[0;36m<module>\u001b[1;34m\u001b[0m\n\u001b[0;32m      2\u001b[0m \u001b[0mx\u001b[0m\u001b[1;33m=\u001b[0m\u001b[1;36m0\u001b[0m\u001b[1;33m\u001b[0m\u001b[1;33m\u001b[0m\u001b[0m\n\u001b[0;32m      3\u001b[0m \u001b[1;32mfor\u001b[0m \u001b[0mi\u001b[0m \u001b[1;32min\u001b[0m \u001b[0mrange\u001b[0m\u001b[1;33m(\u001b[0m\u001b[0mlen\u001b[0m\u001b[1;33m(\u001b[0m\u001b[0mnum\u001b[0m\u001b[1;33m)\u001b[0m\u001b[1;33m)\u001b[0m\u001b[1;33m:\u001b[0m\u001b[1;33m\u001b[0m\u001b[1;33m\u001b[0m\u001b[0m\n\u001b[1;32m----> 4\u001b[1;33m     \u001b[1;32mif\u001b[0m \u001b[0mnum\u001b[0m\u001b[1;33m-\u001b[0m\u001b[0mi\u001b[0m\u001b[1;33m:\u001b[0m\u001b[1;33m\u001b[0m\u001b[1;33m\u001b[0m\u001b[0m\n\u001b[0m\u001b[0;32m      5\u001b[0m         \u001b[0mx\u001b[0m\u001b[1;33m=\u001b[0m\u001b[1;36m1\u001b[0m\u001b[1;33m\u001b[0m\u001b[1;33m\u001b[0m\u001b[0m\n\u001b[0;32m      6\u001b[0m     \u001b[1;32mif\u001b[0m \u001b[0mi\u001b[0m\u001b[1;33m>=\u001b[0m\u001b[1;36m0\u001b[0m\u001b[1;33m:\u001b[0m\u001b[1;33m\u001b[0m\u001b[1;33m\u001b[0m\u001b[0m\n",
      "\u001b[1;31mTypeError\u001b[0m: unsupported operand type(s) for -: 'list' and 'int'"
     ]
    }
   ],
   "source": [
    "num = [2,3,2,4,7,8]\n",
    "x=0\n",
    "for i in range(len(num)):\n",
    "    if num-i:\n",
    "        x=1\n",
    "    if i>=0:\n",
    "#         print(i)\n",
    "        print(x)"
   ]
  },
  {
   "cell_type": "code",
   "execution_count": 21,
   "id": "43ec6749-5920-4ee2-9397-173abb725eaa",
   "metadata": {},
   "outputs": [
    {
     "data": {
      "text/plain": [
       "8"
      ]
     },
     "execution_count": 21,
     "metadata": {},
     "output_type": "execute_result"
    }
   ],
   "source": [
    "num=[2,3,2,4,7,8]\n",
    "max(num)"
   ]
  },
  {
   "cell_type": "code",
   "execution_count": 22,
   "id": "f3c2fb2b-52e9-4d9f-b6c9-6838b317480a",
   "metadata": {},
   "outputs": [],
   "source": [
    "# Exercise 10: Write a program in Python to remove duplicate items from a list.\n",
    "# Hint \n",
    "# Given num = [2,3,4,5,2,6,3,2]\n",
    "\n",
    "# Expected output\n",
    "# Result: [2, 3, 4, 5, 6]"
   ]
  },
  {
   "cell_type": "code",
   "execution_count": 23,
   "id": "7529fb10-c81b-416f-a827-80aa9a271e0b",
   "metadata": {},
   "outputs": [
    {
     "name": "stdout",
     "output_type": "stream",
     "text": [
      "[2, 3, 4, 5, 6]\n"
     ]
    }
   ],
   "source": [
    "num = [2,3,4,5,2,6,3,2]\n",
    "x=[]\n",
    "for i in range(len(num)):\n",
    "    if num[i] not in x:\n",
    "        x.append(num[i])\n",
    "    else:\n",
    "        pass\n",
    "print(x)"
   ]
  },
  {
   "cell_type": "code",
   "execution_count": 24,
   "id": "410face8-81aa-418c-af88-76f242c8ab89",
   "metadata": {},
   "outputs": [],
   "source": [
    "# Exercise 11: Write a program in Python to choose a random item from a list.\n",
    "# Hint \n",
    "# Given num = [2,3,4,5,6,8,9]\n",
    "\n",
    "# Expected output\n",
    "# # Result: 6"
   ]
  },
  {
   "cell_type": "code",
   "execution_count": 36,
   "id": "2e2814e7-9722-463d-95cb-19b9df9cecdc",
   "metadata": {},
   "outputs": [],
   "source": [
    "# Exercise 12: Write a program to append data of the second list to the first list.\n",
    "# Hint \n",
    "# Given list1 = [23, 24, 25, 26] list2 = [27, 28, 29, 30]\n",
    "\n",
    "# Expected output\n",
    "# Result:\n",
    "# [23, 24, 25, 26, 27, 28, 29, 30]"
   ]
  },
  {
   "cell_type": "code",
   "execution_count": 2,
   "id": "68eb2657-1afd-4be6-a706-ef65addc2981",
   "metadata": {},
   "outputs": [
    {
     "name": "stdout",
     "output_type": "stream",
     "text": [
      "[23, 24, 25, 26, 27, 28, 29, 30]\n"
     ]
    }
   ],
   "source": [
    "list1 = [23, 24, 25, 26] \n",
    "list2 = [27, 28, 29, 30]\n",
    "for i in range(len(list2)):\n",
    "    list1.append(list2[i])\n",
    "print(list1)"
   ]
  },
  {
   "cell_type": "code",
   "execution_count": 7,
   "id": "15b35f46-0636-47d5-981c-739ef82596b5",
   "metadata": {},
   "outputs": [
    {
     "name": "stdout",
     "output_type": "stream",
     "text": [
      "[23, 24, 25, 26, 27, 28, 29, 30, [27, 28, 29, 30], 27, 28, 29, 30, 27, 28, 29, 30, 27, 28, 29, 30, 27, 28, 29, 30]\n"
     ]
    }
   ],
   "source": [
    "list1.extend(list2)\n",
    "print(list1)"
   ]
  },
  {
   "cell_type": "code",
   "execution_count": 8,
   "id": "39ab2509-1a09-4c07-8498-4c1d79543291",
   "metadata": {},
   "outputs": [],
   "source": [
    "# Exercise 13: Write a program in Python to filter odd and even number from a list.\n",
    "# Hint \n",
    "# Given [2, 23, 24, 51, 46, 67]\n",
    "\n",
    "# Expected output\n",
    "# Even [2, 24, 46] Odd [23, 51, 67]"
   ]
  },
  {
   "cell_type": "code",
   "execution_count": 18,
   "id": "792c6c81-ff16-47aa-b501-cfc92ccdecd8",
   "metadata": {},
   "outputs": [
    {
     "name": "stdout",
     "output_type": "stream",
     "text": [
      "[2, 24, 46]\n",
      "[23, 51, 67]\n"
     ]
    }
   ],
   "source": [
    "num=[2, 23, 24, 51, 46, 67]\n",
    "even=[]\n",
    "odd=[]\n",
    "for i in range(len(num)):\n",
    "    if i%2==0:\n",
    "        even.append(num[i])\n",
    "    else:\n",
    "        odd.append(num[i])\n",
    "print(even)\n",
    "print(odd)\n",
    "    "
   ]
  },
  {
   "cell_type": "code",
   "execution_count": 19,
   "id": "0db9d1a4-f615-48c6-8275-109b180b49c9",
   "metadata": {},
   "outputs": [],
   "source": [
    "# Exercise 14: Write a program to enter or append n numbers in a list.\n",
    "# Hint \n",
    "# Input: 2\n",
    "# Enter element at index 1: 2\n",
    "# Enter element at index 2: 4\n",
    "\n",
    "# Expected output\n",
    "# Result: [‘2’, ‘4’]"
   ]
  },
  {
   "cell_type": "markdown",
   "id": "2b03516c-7bf4-48f3-8f70-f5a086f793d5",
   "metadata": {},
   "source": [
    "# STRING`"
   ]
  },
  {
   "cell_type": "code",
   "execution_count": 21,
   "id": "d1a39e64-d02a-4138-a70e-0459b516953d",
   "metadata": {},
   "outputs": [
    {
     "data": {
      "text/plain": [
       "['__add__',\n",
       " '__class__',\n",
       " '__contains__',\n",
       " '__delattr__',\n",
       " '__dir__',\n",
       " '__doc__',\n",
       " '__eq__',\n",
       " '__format__',\n",
       " '__ge__',\n",
       " '__getattribute__',\n",
       " '__getitem__',\n",
       " '__getnewargs__',\n",
       " '__gt__',\n",
       " '__hash__',\n",
       " '__init__',\n",
       " '__init_subclass__',\n",
       " '__iter__',\n",
       " '__le__',\n",
       " '__len__',\n",
       " '__lt__',\n",
       " '__mod__',\n",
       " '__mul__',\n",
       " '__ne__',\n",
       " '__new__',\n",
       " '__reduce__',\n",
       " '__reduce_ex__',\n",
       " '__repr__',\n",
       " '__rmod__',\n",
       " '__rmul__',\n",
       " '__setattr__',\n",
       " '__sizeof__',\n",
       " '__str__',\n",
       " '__subclasshook__',\n",
       " 'capitalize',\n",
       " 'casefold',\n",
       " 'center',\n",
       " 'count',\n",
       " 'encode',\n",
       " 'endswith',\n",
       " 'expandtabs',\n",
       " 'find',\n",
       " 'format',\n",
       " 'format_map',\n",
       " 'index',\n",
       " 'isalnum',\n",
       " 'isalpha',\n",
       " 'isascii',\n",
       " 'isdecimal',\n",
       " 'isdigit',\n",
       " 'isidentifier',\n",
       " 'islower',\n",
       " 'isnumeric',\n",
       " 'isprintable',\n",
       " 'isspace',\n",
       " 'istitle',\n",
       " 'isupper',\n",
       " 'join',\n",
       " 'ljust',\n",
       " 'lower',\n",
       " 'lstrip',\n",
       " 'maketrans',\n",
       " 'partition',\n",
       " 'replace',\n",
       " 'rfind',\n",
       " 'rindex',\n",
       " 'rjust',\n",
       " 'rpartition',\n",
       " 'rsplit',\n",
       " 'rstrip',\n",
       " 'split',\n",
       " 'splitlines',\n",
       " 'startswith',\n",
       " 'strip',\n",
       " 'swapcase',\n",
       " 'title',\n",
       " 'translate',\n",
       " 'upper',\n",
       " 'zfill']"
      ]
     },
     "execution_count": 21,
     "metadata": {},
     "output_type": "execute_result"
    }
   ],
   "source": [
    "dir(str)"
   ]
  },
  {
   "cell_type": "code",
   "execution_count": 20,
   "id": "9450e6b6-65a8-41bf-b83e-45921cce6dc0",
   "metadata": {},
   "outputs": [],
   "source": [
    "# Exercise 1: Write a program to reverse a string in python.\n",
    "# Hint \n",
    "# Input: python`\n",
    "\n",
    "# Expected output\n",
    "# Result is: nohtyp"
   ]
  },
  {
   "cell_type": "code",
   "execution_count": 68,
   "id": "f4b9670c-cfd4-48dc-ae08-98fa0c1ae15f",
   "metadata": {},
   "outputs": [
    {
     "ename": "TypeError",
     "evalue": "'list' object is not callable",
     "output_type": "error",
     "traceback": [
      "\u001b[1;31m---------------------------------------------------------------------------\u001b[0m",
      "\u001b[1;31mTypeError\u001b[0m                                 Traceback (most recent call last)",
      "\u001b[1;32m<ipython-input-68-f772aa5d08ad>\u001b[0m in \u001b[0;36m<module>\u001b[1;34m\u001b[0m\n\u001b[0;32m      3\u001b[0m \u001b[1;32mfor\u001b[0m \u001b[0mi\u001b[0m \u001b[1;32min\u001b[0m  \u001b[0mrange\u001b[0m\u001b[1;33m(\u001b[0m\u001b[0mlen\u001b[0m\u001b[1;33m(\u001b[0m\u001b[0mstri\u001b[0m\u001b[1;33m)\u001b[0m\u001b[1;33m)\u001b[0m\u001b[1;33m:\u001b[0m\u001b[1;33m\u001b[0m\u001b[1;33m\u001b[0m\u001b[0m\n\u001b[0;32m      4\u001b[0m     \u001b[0mx\u001b[0m\u001b[1;33m=\u001b[0m\u001b[0mx\u001b[0m\u001b[1;33m-\u001b[0m\u001b[1;36m1\u001b[0m\u001b[1;33m\u001b[0m\u001b[1;33m\u001b[0m\u001b[0m\n\u001b[1;32m----> 5\u001b[1;33m     \u001b[0mprint\u001b[0m\u001b[1;33m(\u001b[0m\u001b[0mstri\u001b[0m\u001b[1;33m(\u001b[0m\u001b[1;33m[\u001b[0m\u001b[0mx\u001b[0m\u001b[1;33m]\u001b[0m\u001b[1;33m)\u001b[0m\u001b[1;33m)\u001b[0m\u001b[1;33m\u001b[0m\u001b[1;33m\u001b[0m\u001b[0m\n\u001b[0m",
      "\u001b[1;31mTypeError\u001b[0m: 'list' object is not callable"
     ]
    }
   ],
   "source": [
    "stri=[\"python\"]\n",
    "x=0\n",
    "for i in  range(len(stri)):\n",
    "    x=x-1\n",
    "    print(stri([x]))"
   ]
  },
  {
   "cell_type": "code",
   "execution_count": 3,
   "id": "6cb7e9f4-dce0-45fb-ba72-06f3323dca41",
   "metadata": {},
   "outputs": [
    {
     "name": "stdout",
     "output_type": "stream",
     "text": [
      "0\n",
      "1\n",
      "2\n",
      "3\n",
      "4\n"
     ]
    }
   ],
   "source": [
    "# 1. Write a Python program to calculate the length of a string.\n",
    "x=\"Disha\"\n",
    "for i in range(len(x)):\n",
    "    print(i)"
   ]
  },
  {
   "cell_type": "code",
   "execution_count": 8,
   "id": "5ec38a89-73a5-4c45-80ab-c6775bc5bf2f",
   "metadata": {},
   "outputs": [
    {
     "name": "stdout",
     "output_type": "stream",
     "text": [
      "5\n"
     ]
    }
   ],
   "source": [
    "def string_len(str1):\n",
    "    count=0\n",
    "    for i in str1:\n",
    "        count=count+1\n",
    "    return count\n",
    "print (string_len(\"disha\"))"
   ]
  },
  {
   "cell_type": "code",
   "execution_count": 10,
   "id": "b0223908-b03a-45de-a4b8-a0a198bfbc4d",
   "metadata": {},
   "outputs": [
    {
     "data": {
      "text/plain": [
       "14"
      ]
     },
     "execution_count": 10,
     "metadata": {},
     "output_type": "execute_result"
    }
   ],
   "source": [
    "string_len(\"Paridhi kamdar\")"
   ]
  },
  {
   "cell_type": "code",
   "execution_count": 11,
   "id": "35bea91e-bbf1-40bc-ad12-2a9cdf06df74",
   "metadata": {},
   "outputs": [
    {
     "data": {
      "text/plain": [
       "11"
      ]
     },
     "execution_count": 11,
     "metadata": {},
     "output_type": "execute_result"
    }
   ],
   "source": [
    "string_len(\"Aryawardhan\")"
   ]
  },
  {
   "cell_type": "code",
   "execution_count": 19,
   "id": "396759bf-1b0f-47f6-89ab-b7b09e8c0608",
   "metadata": {},
   "outputs": [
    {
     "name": "stdout",
     "output_type": "stream",
     "text": [
      "Disha\n"
     ]
    }
   ],
   "source": [
    "def num_char(str2):\n",
    "    count=0\n",
    "    for i in str2:\n",
    "        count=count+1\n",
    "    return str2\n",
    "print(num_char(\"Disha\"))"
   ]
  },
  {
   "cell_type": "code",
   "execution_count": 44,
   "id": "e29333cb-6de1-4422-9698-14d5e3ff3cb7",
   "metadata": {},
   "outputs": [
    {
     "data": {
      "text/plain": [
       "{'g': 2, 'o': 3, 'l': 1, 'e': 1, '.': 1, 'c': 1, 'm': 1}"
      ]
     },
     "execution_count": 44,
     "metadata": {},
     "output_type": "execute_result"
    }
   ],
   "source": [
    "def Character_frequency(str2):\n",
    "    dict={}\n",
    "    for i in str2:\n",
    "        keys=dict.keys()\n",
    "        \n",
    "        if i in keys:\n",
    "            dict[i]=dict[i]+1\n",
    "            \n",
    "        else:\n",
    "            dict[i]=1\n",
    "    return dict\n",
    "Character_frequency(\"google.com\")"
   ]
  },
  {
   "cell_type": "code",
   "execution_count": 48,
   "id": "103b6fd0-ad67-48e6-9bda-e90c022104d6",
   "metadata": {},
   "outputs": [
    {
     "data": {
      "text/plain": [
       "{'w': 3, '.': 2, 'g': 2, 'o': 3, 'l': 1, 'e': 1, 'c': 1, 'm': 1}"
      ]
     },
     "execution_count": 48,
     "metadata": {},
     "output_type": "execute_result"
    }
   ],
   "source": [
    "Character_frequency(\"www.google.com\")"
   ]
  },
  {
   "cell_type": "code",
   "execution_count": 49,
   "id": "f92871ae-8894-4ad9-92a2-be595b8cb4b9",
   "metadata": {},
   "outputs": [
    {
     "name": "stdout",
     "output_type": "stream",
     "text": [
      "{'w': 3, '.': 2, 'd': 1, 'i': 1, 's': 1, 'h': 1, 'a': 1, 'c': 1, 'o': 1, 'm': 1}\n"
     ]
    }
   ],
   "source": [
    "print(Character_frequency(\"www.disha.com\"))"
   ]
  },
  {
   "cell_type": "code",
   "execution_count": 50,
   "id": "2e517cda-a0df-42ae-b94c-035ee55881c7",
   "metadata": {},
   "outputs": [],
   "source": [
    "# 3. Write a Python program to get a string made of the first 2 and the last 2 chars from a given a string. If the string length is less than 2, return instead of the empty string. Go to the editor\n",
    "# Sample String : 'w3resource'\n",
    "# Expected Result : 'w3ce'\n",
    "# Sample String : 'w3'\n",
    "# Expected Result : 'w3w3'\n",
    "# Sample String : ' w'\n",
    "# Expected Result : Empty String"
   ]
  },
  {
   "cell_type": "code",
   "execution_count": 129,
   "id": "7ac2461e-26e5-4e90-b2a4-bfdaa5344a1f",
   "metadata": {},
   "outputs": [
    {
     "ename": "IndentationError",
     "evalue": "unindent does not match any outer indentation level (<tokenize>, line 5)",
     "output_type": "error",
     "traceback": [
      "\u001b[1;36m  File \u001b[1;32m\"<tokenize>\"\u001b[1;36m, line \u001b[1;32m5\u001b[0m\n\u001b[1;33m    return str3[0:2] +str3[-2:]\u001b[0m\n\u001b[1;37m    ^\u001b[0m\n\u001b[1;31mIndentationError\u001b[0m\u001b[1;31m:\u001b[0m unindent does not match any outer indentation level\n"
     ]
    }
   ],
   "source": [
    "def sample_string(str3):\n",
    "    for i in range(len(str3)):\n",
    "        if i<2:\n",
    "            return \" \"\n",
    "         return str3[0:2] +str3[-2:]\n",
    "        "
   ]
  },
  {
   "cell_type": "code",
   "execution_count": 130,
   "id": "00b87de0-fea1-4cfb-8ea0-6deac360acba",
   "metadata": {},
   "outputs": [
    {
     "data": {
      "text/plain": [
       "' '"
      ]
     },
     "execution_count": 130,
     "metadata": {},
     "output_type": "execute_result"
    }
   ],
   "source": [
    "sample_string(\"Sh\")"
   ]
  },
  {
   "cell_type": "code",
   "execution_count": 125,
   "id": "d64d8a61-5bfb-4795-98d9-f9cd477a27a6",
   "metadata": {},
   "outputs": [
    {
     "data": {
      "text/plain": [
       "' '"
      ]
     },
     "execution_count": 125,
     "metadata": {},
     "output_type": "execute_result"
    }
   ],
   "source": [
    "sample_string(\"paridhi\")"
   ]
  },
  {
   "cell_type": "code",
   "execution_count": 1,
   "id": "f0d3cb4b-9786-4cec-aca7-d609b102550c",
   "metadata": {},
   "outputs": [
    {
     "name": "stdin",
     "output_type": "stream",
     "text": [
      "There is id name:- Disha@23\n",
      "here you put pssd:- Disha@2911\n"
     ]
    },
    {
     "name": "stdout",
     "output_type": "stream",
     "text": [
      "Access Grant\n"
     ]
    }
   ],
   "source": [
    "# Make a login portal which allows maximum 3 wrong attempt\n",
    "for i in range(3):\n",
    "    \n",
    "    id=input(\"There is id name:-\")\n",
    "    pss=input(\"here you put pssd:-\")\n",
    "    if id==\"Disha@23\" and pss==\"Disha@2911\":\n",
    "        print(\"Access Grant\")\n",
    "        break\n",
    "    else:\n",
    "        print(\"Access Deined\")\n",
    "        print(\"One more try\")\n",
    "else:\n",
    "    print(\"No more access\")\n"
   ]
  },
  {
   "cell_type": "code",
   "execution_count": 2,
   "id": "4d8c67c7-76da-450c-bbc0-e1b7b0dc858e",
   "metadata": {},
   "outputs": [
    {
     "name": "stdin",
     "output_type": "stream",
     "text": [
      "There is id name:- sbyugf\n",
      "here you put pssd:- bdhs\n"
     ]
    },
    {
     "name": "stdout",
     "output_type": "stream",
     "text": [
      "Access Deined\n",
      "One more try\n"
     ]
    },
    {
     "name": "stdin",
     "output_type": "stream",
     "text": [
      "There is id name:- Disha@23\n",
      "here you put pssd:- Disha@2911\n"
     ]
    },
    {
     "name": "stdout",
     "output_type": "stream",
     "text": [
      "Access Grant\n"
     ]
    }
   ],
   "source": [
    "count=0\n",
    "while count<3:\n",
    "    id=input(\"There is id name:-\")\n",
    "    pss=input(\"here you put pssd:-\")\n",
    "    \n",
    "     \n",
    "    if id==\"Disha@23\" and pss==\"Disha@2911\":\n",
    "        print(\"Access Grant\")\n",
    "        break\n",
    "        \n",
    "    else:\n",
    "        print(\"Access Deined\")\n",
    "        print(\"One more try\")\n",
    "        count=count+1\n",
    "        \n",
    "   \n",
    "\n"
   ]
  },
  {
   "cell_type": "code",
   "execution_count": 9,
   "id": "a0e4bb00-7e92-431f-b925-3add1aa4175f",
   "metadata": {},
   "outputs": [
    {
     "name": "stdin",
     "output_type": "stream",
     "text": [
      "The bfibo 10\n"
     ]
    },
    {
     "name": "stdout",
     "output_type": "stream",
     "text": [
      "0\n",
      "1\n",
      "2\n",
      "3\n",
      "4\n",
      "5\n",
      "6\n",
      "7\n",
      "8\n",
      "9\n",
      "10\n"
     ]
    }
   ],
   "source": [
    "# Python program to display the fibonacci sequence up to n-th term using recursive function\n",
    "n_term_1=0\n",
    "n_term_2=1\n",
    "n_term=int(input(\"The bfibo\"))\n",
    "for i in range (n_term):\n",
    "    n_term_1=n_term_1+n_term_2\n",
    "    n_term_2=n_term_1\n",
    "    print()\n",
    "    n_term2=n_term\n",
    "print(n_term)"
   ]
  },
  {
   "cell_type": "code",
   "execution_count": 7,
   "id": "ca53ab02-13e3-4c21-8c66-35c4bfe36c32",
   "metadata": {},
   "outputs": [
    {
     "name": "stdout",
     "output_type": "stream",
     "text": [
      "-1\n",
      "-2\n",
      "-3\n",
      "-4\n",
      "-5\n",
      "-6\n",
      "-7\n",
      "-8\n",
      "-9\n",
      "-10\n",
      "-11\n",
      "-12\n"
     ]
    }
   ],
   "source": [
    "# Write a program to reverse a number in python without converting it to any other datatype\n",
    "n=0\n",
    "for i in range(12):\n",
    "    \n",
    "    \n",
    "    \n",
    "    \n",
    "    print(n)"
   ]
  },
  {
   "cell_type": "code",
   "execution_count": 6,
   "id": "adadd447-b4a8-4102-85ad-40476b68dae8",
   "metadata": {},
   "outputs": [
    {
     "name": "stdout",
     "output_type": "stream",
     "text": [
      "a "
     ]
    },
    {
     "ename": "TypeError",
     "evalue": "unsupported operand type(s) for +: 'int' and 'str'",
     "output_type": "error",
     "traceback": [
      "\u001b[1;31m---------------------------------------------------------------------------\u001b[0m",
      "\u001b[1;31mTypeError\u001b[0m                                 Traceback (most recent call last)",
      "\u001b[1;32m<ipython-input-6-e1ce10335885>\u001b[0m in \u001b[0;36m<module>\u001b[1;34m\u001b[0m\n\u001b[0;32m      5\u001b[0m \u001b[1;32mwhile\u001b[0m \u001b[0mi\u001b[0m \u001b[1;32min\u001b[0m \u001b[0mx\u001b[0m\u001b[1;33m:\u001b[0m\u001b[1;33m\u001b[0m\u001b[1;33m\u001b[0m\u001b[0m\n\u001b[0;32m      6\u001b[0m     \u001b[0mprint\u001b[0m\u001b[1;33m(\u001b[0m\u001b[0mi\u001b[0m\u001b[1;33m,\u001b[0m\u001b[0mend\u001b[0m\u001b[1;33m=\u001b[0m\u001b[1;34m\" \"\u001b[0m\u001b[1;33m)\u001b[0m\u001b[1;33m\u001b[0m\u001b[1;33m\u001b[0m\u001b[0m\n\u001b[1;32m----> 7\u001b[1;33m     \u001b[0ma\u001b[0m\u001b[1;33m=\u001b[0m\u001b[0ma\u001b[0m\u001b[1;33m+\u001b[0m\u001b[0mi\u001b[0m\u001b[1;33m\u001b[0m\u001b[1;33m\u001b[0m\u001b[0m\n\u001b[0m",
      "\u001b[1;31mTypeError\u001b[0m: unsupported operand type(s) for +: 'int' and 'str'"
     ]
    }
   ],
   "source": [
    "# find and wriye the output of the following python code:\n",
    "x=\"abcdef\"\n",
    "i=\"a\"\n",
    "a=0\n",
    "while i in x:\n",
    "    print(i,end=\" \")\n",
    "    "
   ]
  },
  {
   "cell_type": "code",
   "execution_count": 8,
   "id": "240883af-b58b-4946-8a26-0ec7a877cb03",
   "metadata": {},
   "outputs": [
    {
     "name": "stdin",
     "output_type": "stream",
     "text": [
      "Enter a string: aabbcc\n"
     ]
    },
    {
     "name": "stdout",
     "output_type": "stream",
     "text": [
      "bbcc\n",
      "4\n"
     ]
    }
   ],
   "source": [
    "# Consider the following code\n",
    "string=input(\"Enter a string:\")\n",
    "count=3\n",
    "while True:\n",
    "    if string[0]==\"a\":\n",
    "        string=string[2:]\n",
    "    elif string[-1]==\"b\":\n",
    "        string=string[:2]\n",
    "    else:\n",
    "        count=count+1\n",
    "        break\n",
    "print(string)\n",
    "print(count)"
   ]
  },
  {
   "cell_type": "markdown",
   "id": "ebd172ca-34e5-4275-8c45-9a5ad18dea5c",
   "metadata": {},
   "source": [
    "# Dictionary\n",
    "\n"
   ]
  },
  {
   "cell_type": "code",
   "execution_count": 2,
   "id": "a336d6fd-8181-45a1-b53c-19b10b6ba925",
   "metadata": {},
   "outputs": [],
   "source": [
    "#Exercise 1: Convert two lists into a dictionary\n",
    "keys = ['Ten', 'Twenty', 'Thirty']\n",
    "values = [10, 20, 30]"
   ]
  },
  {
   "cell_type": "code",
   "execution_count": 29,
   "id": "cde8508b-6a1f-4cc1-becf-982a12b488d3",
   "metadata": {},
   "outputs": [
    {
     "name": "stdout",
     "output_type": "stream",
     "text": [
      "{'Ten': 10, 'Twenty': 20, 'Thirty': 30}\n"
     ]
    }
   ],
   "source": [
    "res_dict={}\n",
    "for i in range(len(keys)):\n",
    "    res_dict.update({keys[i]:values[i]})\n",
    "print(res_dict)\n",
    "                   \n"
   ]
  },
  {
   "cell_type": "code",
   "execution_count": 31,
   "id": "d8b1c145-4a87-4050-82a9-8e3036aa9d11",
   "metadata": {},
   "outputs": [],
   "source": [
    "# Exercise 2: Merge two Python dictionaries into one\n",
    "dict1 = {'Ten': 10, 'Twenty': 20, 'Thirty': 30}\n",
    "dict2 = {'Thirty': 30, 'Fourty': 40, 'Fifty': 50}"
   ]
  },
  {
   "cell_type": "code",
   "execution_count": 35,
   "id": "763b0e0e-950b-4d26-90d8-7fb480c704ee",
   "metadata": {},
   "outputs": [
    {
     "name": "stdout",
     "output_type": "stream",
     "text": [
      "{'Ten': 10, 'Twenty': 20, 'Thirty': 30, 'Fourty': 40, 'Fifty': 50}\n"
     ]
    }
   ],
   "source": [
    "for i in range(len(dict1)):\n",
    "    dict1.update(dict2)\n",
    "    \n",
    "print(dict1)\n",
    "    "
   ]
  },
  {
   "cell_type": "code",
   "execution_count": 36,
   "id": "21b1f0de-14ca-40b3-92c1-3d9972ee0bb5",
   "metadata": {},
   "outputs": [],
   "source": [
    "sampleDict = {\n",
    "    \"class\": {\n",
    "        \"student\": {\n",
    "            \"name\": \"Mike\",\n",
    "            \"marks\": {\n",
    "                \"physics\": 70,\n",
    "                \"history\": 80\n",
    "            }\n",
    "        }\n",
    "    }\n",
    "}\n"
   ]
  },
  {
   "cell_type": "code",
   "execution_count": 38,
   "id": "c3698c4d-883c-4a3b-a250-99a89b5baa99",
   "metadata": {},
   "outputs": [
    {
     "name": "stdout",
     "output_type": "stream",
     "text": [
      "0\n"
     ]
    }
   ],
   "source": [
    "for i in range(len(sampleDict)):\n",
    "    print()"
   ]
  },
  {
   "cell_type": "code",
   "execution_count": null,
   "id": "fe0ec9e7-6c7b-4937-a5c6-6ca241c2d653",
   "metadata": {},
   "outputs": [],
   "source": []
  },
  {
   "cell_type": "code",
   "execution_count": null,
   "id": "b3589cc7-b786-4d34-ab69-873b0c90cb40",
   "metadata": {},
   "outputs": [],
   "source": []
  },
  {
   "cell_type": "code",
   "execution_count": null,
   "id": "c37ec348-c8c8-476c-90d9-f040812a11ff",
   "metadata": {},
   "outputs": [],
   "source": []
  },
  {
   "cell_type": "code",
   "execution_count": null,
   "id": "df4eda3b-34f5-4750-878d-772a27b7fd5a",
   "metadata": {},
   "outputs": [],
   "source": []
  },
  {
   "cell_type": "code",
   "execution_count": null,
   "id": "07be8f2b-dfbd-45e1-9cc6-febc972742cd",
   "metadata": {},
   "outputs": [],
   "source": []
  },
  {
   "cell_type": "code",
   "execution_count": null,
   "id": "e2b188a8-23ec-41dc-92f6-bd50aad30ee8",
   "metadata": {},
   "outputs": [],
   "source": []
  },
  {
   "cell_type": "code",
   "execution_count": 37,
   "id": "c4c91ee4-5752-40c4-9078-71790949b0fb",
   "metadata": {},
   "outputs": [
    {
     "data": {
      "text/plain": [
       "['__class__',\n",
       " '__contains__',\n",
       " '__delattr__',\n",
       " '__delitem__',\n",
       " '__dir__',\n",
       " '__doc__',\n",
       " '__eq__',\n",
       " '__format__',\n",
       " '__ge__',\n",
       " '__getattribute__',\n",
       " '__getitem__',\n",
       " '__gt__',\n",
       " '__hash__',\n",
       " '__init__',\n",
       " '__init_subclass__',\n",
       " '__iter__',\n",
       " '__le__',\n",
       " '__len__',\n",
       " '__lt__',\n",
       " '__ne__',\n",
       " '__new__',\n",
       " '__reduce__',\n",
       " '__reduce_ex__',\n",
       " '__repr__',\n",
       " '__reversed__',\n",
       " '__setattr__',\n",
       " '__setitem__',\n",
       " '__sizeof__',\n",
       " '__str__',\n",
       " '__subclasshook__',\n",
       " 'clear',\n",
       " 'copy',\n",
       " 'fromkeys',\n",
       " 'get',\n",
       " 'items',\n",
       " 'keys',\n",
       " 'pop',\n",
       " 'popitem',\n",
       " 'setdefault',\n",
       " 'update',\n",
       " 'values']"
      ]
     },
     "execution_count": 37,
     "metadata": {},
     "output_type": "execute_result"
    }
   ],
   "source": [
    "dir(dict)"
   ]
  },
  {
   "cell_type": "code",
   "execution_count": null,
   "id": "2b9182b0-0bfb-4bb7-adac-59d88d0ce6f4",
   "metadata": {},
   "outputs": [],
   "source": []
  }
 ],
 "metadata": {
  "kernelspec": {
   "display_name": "Python 3",
   "language": "python",
   "name": "python3"
  },
  "language_info": {
   "codemirror_mode": {
    "name": "ipython",
    "version": 3
   },
   "file_extension": ".py",
   "mimetype": "text/x-python",
   "name": "python",
   "nbconvert_exporter": "python",
   "pygments_lexer": "ipython3",
   "version": "3.8.8"
  }
 },
 "nbformat": 4,
 "nbformat_minor": 5
}
