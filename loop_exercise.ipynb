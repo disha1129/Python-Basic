{
 "cells": [
  {
   "cell_type": "markdown",
   "id": "cf7012bd-9536-464f-b2e2-9c2e30c6ea26",
   "metadata": {},
   "source": [
    "# Loop Exercise"
   ]
  },
  {
   "cell_type": "code",
   "execution_count": 1,
   "id": "2437dc3c-5c3f-40c9-bb52-9d7aacfe313d",
   "metadata": {},
   "outputs": [
    {
     "name": "stdout",
     "output_type": "stream",
     "text": [
      "1\n",
      "2\n",
      "3\n",
      "4\n",
      "5\n",
      "6\n",
      "7\n",
      "8\n",
      "9\n",
      "10\n"
     ]
    }
   ],
   "source": [
    "#Exercise 1: Print First 10 natural numbers using while loop\n",
    "i=1\n",
    "while i<=10:\n",
    "    print(i)\n",
    "    i=i+1"
   ]
  },
  {
   "cell_type": "code",
   "execution_count": 2,
   "id": "eaa6c8d8-ca87-4b49-a9bc-c033d61bc0e1",
   "metadata": {},
   "outputs": [
    {
     "name": "stdout",
     "output_type": "stream",
     "text": [
      "1  \n",
      "1 2  \n",
      "1 2 3  \n",
      "1 2 3 4  \n",
      "1 2 3 4 5  \n"
     ]
    }
   ],
   "source": [
    "#Exercise 2: Print the following pattern\n",
    "var=5\n",
    "for i in range(1,var+1):\n",
    "    for j in range(1,i+1):\n",
    "        print(j,end=\" \")\n",
    "    print(\" \")\n",
    "    \n",
    "\n",
    "    \n",
    "    "
   ]
  },
  {
   "cell_type": "code",
   "execution_count": 3,
   "id": "4f84ea3b-0ae0-4fe3-9d3e-c7c6d68519c5",
   "metadata": {},
   "outputs": [
    {
     "ename": "IndentationError",
     "evalue": "unexpected indent (<ipython-input-3-14bc56afc7df>, line 2)",
     "output_type": "error",
     "traceback": [
      "\u001b[1;36m  File \u001b[1;32m\"<ipython-input-3-14bc56afc7df>\"\u001b[1;36m, line \u001b[1;32m2\u001b[0m\n\u001b[1;33m    print(j)\u001b[0m\n\u001b[1;37m    ^\u001b[0m\n\u001b[1;31mIndentationError\u001b[0m\u001b[1;31m:\u001b[0m unexpected indent\n"
     ]
    }
   ],
   "source": [
    " for j in range(1,i+1):S\n",
    "        print(j)\n",
    "    "
   ]
  },
  {
   "cell_type": "code",
   "execution_count": null,
   "id": "247c3e4c-ba89-4ebf-b3cf-db3b190a0450",
   "metadata": {},
   "outputs": [],
   "source": [
    "#Exercise 3: Calculate the sum of all numbers from 1 to a given number\n",
    "var=int(input(\"Enter an interger\"))\n",
    "x=0\n",
    "for i in range(1,var+1,1):\n",
    "    x=x+i\n",
    "print(var)\n",
    "print(\"sum is:\",x)"
   ]
  },
  {
   "cell_type": "code",
   "execution_count": null,
   "id": "7428fa94-fcb3-46ef-b128-dc730d3915bf",
   "metadata": {},
   "outputs": [],
   "source": [
    "a=1\n",
    "while a<=10:\n",
    "    print(a)\n",
    "    a=a+1\n",
    "print(\"\\ntable for one \")"
   ]
  },
  {
   "cell_type": "code",
   "execution_count": null,
   "id": "32a3cbd7-8c11-4a94-888b-4c5b19ee39be",
   "metadata": {},
   "outputs": [],
   "source": [
    "n=17\n",
    "while n<=170:\n",
    "    print(n)\n",
    "    n=n+17\n",
    "print(\"\\n Table for 17\")"
   ]
  },
  {
   "cell_type": "code",
   "execution_count": null,
   "id": "2ea41e39-bfb4-403c-afa5-fe7be370bef5",
   "metadata": {},
   "outputs": [],
   "source": [
    "for i in range(100,0,-10):\n",
    "    print(i,end=\" \")"
   ]
  },
  {
   "cell_type": "code",
   "execution_count": null,
   "id": "d5959fd8-8cf7-43fd-ab8a-5e06ca604004",
   "metadata": {},
   "outputs": [],
   "source": [
    "inp=int(input(\"Number is intger\"))\n",
    "x=0\n",
    "for i in range(1,inp+1,1):\n",
    "    x=x+i\n",
    "\n",
    "print(x)\n",
    "   "
   ]
  },
  {
   "cell_type": "code",
   "execution_count": null,
   "id": "9a2be7d9-79a3-406b-b6c8-fb80fb247691",
   "metadata": {},
   "outputs": [],
   "source": [
    "inp=int(input(\"Number is intger\"))\n",
    "x=0\n",
    "while x<=inp:\n",
    "    for i in range(1,inp):\n",
    "        \n",
    "        x=x+i\n",
    "print(x)"
   ]
  },
  {
   "cell_type": "code",
   "execution_count": null,
   "id": "fa28cb2a-2fd5-48ec-a66d-7ac29ffa1c20",
   "metadata": {},
   "outputs": [],
   "source": [
    "num=[12,75,150,180,145,525,50]\n",
    "for i in num:\n",
    "    if i>500:\n",
    "       \n",
    "        break\n",
    "    elif i>150:\n",
    "       \n",
    "        continue\n",
    "    elif i%5==0:\n",
    "        print(i)\n",
    "    \n",
    "    \n",
    "        "
   ]
  },
  {
   "cell_type": "code",
   "execution_count": null,
   "id": "2666236f-4eb0-4ad7-95c1-586449cfc674",
   "metadata": {},
   "outputs": [],
   "source": [
    "# Exercise 6: Count the total number of digits in a number\n",
    "# Write a program to count the total number of digits in a number using a while loop.\n",
    "\n",
    "# For example, the number is 75869, so the output should be 5.\n",
    "num=75869\n",
    "count=0\n",
    "while num!=0:\n",
    "    num=num//10\n",
    "    print(num)\n",
    "    \n",
    "    count=count+1\n",
    "    print(count)\n",
    "    \n",
    "    \n",
    "    \n",
    "    "
   ]
  },
  {
   "cell_type": "code",
   "execution_count": null,
   "id": "1d11256d-34e8-4020-b079-d0c94da220db",
   "metadata": {},
   "outputs": [],
   "source": [
    "# Write a for loop so that every item in the list is printed.\n",
    "\n",
    "lst=[\"koala\", \"cat\", \"fox\", \"panda\", \"chipmunk\", \"sloth\", \"penguin\", \"dolphin\"]\n",
    "for i in lst:\n",
    "    print(i)"
   ]
  },
  {
   "cell_type": "code",
   "execution_count": null,
   "id": "9c7a4d1c-9a27-414f-a10a-bd4a92511b43",
   "metadata": {},
   "outputs": [],
   "source": [
    "# Write a for loop which print \"Hello!, \" plus each name in the list. i.e.: \"Hello!, Sam\"\n",
    "lst=[\"Sam\", \"Lisa\", \"Micha\", \"Dave\", \"Wyatt\", \"Emma\", \"Sage\"]\n",
    "for i in lst:\n",
    "    print(\"hello!,\",i)"
   ]
  },
  {
   "cell_type": "code",
   "execution_count": null,
   "id": "f4d316d5-462b-4af6-9351-6e98b46f1518",
   "metadata": {},
   "outputs": [],
   "source": [
    "#Write a for loop that iterates through a string and prints every letter.\n",
    "str=\"Antarctica\"\n",
    "for i in str:\n",
    "    print(i)"
   ]
  },
  {
   "cell_type": "code",
   "execution_count": null,
   "id": "55f08f44-bfcb-497d-91d7-b6669084184c",
   "metadata": {},
   "outputs": [],
   "source": [
    "# # Type a code inside the for loop so that counter variable named /\n",
    "# c is increased by one each time loop iterates. /\n",
    "# Can you guess how many times it will add 1?.\n",
    "str=\"Civilization\"\n",
    "\n",
    "c=0\n",
    "for i in str:\n",
    "    \n",
    "    c=c+1\n",
    "print(c)\n",
    "\n"
   ]
  },
  {
   "cell_type": "code",
   "execution_count": null,
   "id": "ea9b141c-d413-4fb6-94a3-c6a9889765a0",
   "metadata": {},
   "outputs": [],
   "source": [
    "lst1=[\"Phil\", \"Oz\", \"Seuss\", \"Dre\"]\n",
    "lst2=[]\n",
    "for i in lst1:\n",
    "    lst1=\"Dr. \"+ i\n",
    "    lst2.append(lst1)\n",
    "print(lst2)\n",
    "    \n",
    "    \n",
    "    "
   ]
  },
  {
   "cell_type": "code",
   "execution_count": null,
   "id": "882cb07c-a318-4d3a-8db7-f30f8d9550df",
   "metadata": {},
   "outputs": [],
   "source": [
    "# Write a for loop which appends the square of each number to the new list.\n",
    "lst1=[3, 7, 6, 8, 9, 11, 15, 25]\n",
    "lst2=[]\n",
    "for i in lst1:\n",
    "    lst2.append(i**2)\n",
    "print(lst2)"
   ]
  },
  {
   "cell_type": "code",
   "execution_count": null,
   "id": "e8fb5da3-7af8-42bd-a07f-520611f96cd5",
   "metadata": {},
   "outputs": [],
   "source": [
    "# Write a for loop using an if statement, that appends each number to the new list if it's positive\n",
    "lst1=[111, 32, -9, -45, -17, 9, 85, -10]\n",
    "lst2=[]\n",
    "x=0\n",
    "for i in lst1:\n",
    "    if i>=x:\n",
    "        lst2.append(i)\n",
    "print(lst2)"
   ]
  },
  {
   "cell_type": "code",
   "execution_count": null,
   "id": "0b5fda8e-7a81-4ce1-985e-c0111d69bf2e",
   "metadata": {},
   "outputs": [],
   "source": [
    "# Using for loop and if statement, append the value minus 1000 for each key to the new list if the value is above 1000. i.e.: if the value is 1500, 500 should be added to the new list.\n",
    "dict={\"z1\":900, \"t1\": 1100, \"p1\": 2300, \"r1\": 1050, \"k1\": 3200, \"g1\": 400}\n",
    "lst=[]\n",
    "for i in dict:\n",
    "    if dict[i]>1000:\n",
    "        lst.append(dict[i]-1000)\n",
    "print(lst)\n",
    "    "
   ]
  },
  {
   "cell_type": "code",
   "execution_count": null,
   "id": "894056bb-c5b0-4b3c-a9a0-0f4db5baf6c5",
   "metadata": {},
   "outputs": [],
   "source": [
    "# Write a for loop which appends the type of each element in the first list to the second list.\n",
    "lst1=[3.14, 66, \"Teddy Bear\", True, [], {}]\n",
    "lst2=[]\n",
    "for i in lst1:\n",
    "    lst2.append(type(i))\n",
    "print(lst2)\n"
   ]
  },
  {
   "cell_type": "code",
   "execution_count": null,
   "id": "31f92640-e935-4b63-9310-0c207fd715df",
   "metadata": {},
   "outputs": [],
   "source": [
    "## While Loop\n",
    "# Write a while loop that adds all the numbers up to 100 (inclusive).\n",
    "count=0\n",
    "total=0\n",
    "\n",
    "while count<=100:\n",
    "    total=total+count\n",
    "    count=count+1\n",
    "    \n",
    "print(total)\n",
    "    \n",
    "    "
   ]
  },
  {
   "cell_type": "code",
   "execution_count": null,
   "id": "6b570021-7841-4576-8e7d-bd63e5472029",
   "metadata": {},
   "outputs": [],
   "source": [
    "while count <= 100:\n",
    "    total= total+count\n",
    "    count= count+1\n",
    "print(total)"
   ]
  },
  {
   "cell_type": "code",
   "execution_count": null,
   "id": "f5a69775-c884-4467-8075-f78f16a963da",
   "metadata": {},
   "outputs": [],
   "source": [
    "# Using while loop, if statement and str() function; iterate through the list and if there is a 100, print it with its index number. i.e.: \"There is a 100 at index no: 5\"\n",
    "lst=[10, 99, 98, 85, 45, 59, 65, 66, 76, 12, 35, 13, 100, 80, 95]\n",
    "x=0\n",
    "while x<len(lst):\n",
    "    if lst[x]==100:\n",
    "        x=x+1\n",
    "        break\n",
    "    x=x+1\n",
    "print(\"There is a 100 at index no:\",x)\n",
    "       "
   ]
  },
  {
   "cell_type": "code",
   "execution_count": null,
   "id": "0ac3d884-9460-4dac-8a64-374b0289afa4",
   "metadata": {},
   "outputs": [],
   "source": [
    "# Using while loop and an if statement write a function named name_adder which appends all the elements in a list to a new list unless the element is an empty string: \"\".\n",
    "\n",
    "lst1=[\"Joe\", \"Sarah\", \"Mike\", \"Jess\", \"\", \"Matt\", \"\", \"Greg\"]\n",
    "\n"
   ]
  },
  {
   "cell_type": "code",
   "execution_count": null,
   "id": "1eafd50b-1027-4433-906d-03b22a0532a1",
   "metadata": {},
   "outputs": [],
   "source": []
  },
  {
   "cell_type": "code",
   "execution_count": null,
   "id": "8caddf55-9ad9-436e-8186-45b9d2d00feb",
   "metadata": {},
   "outputs": [],
   "source": []
  },
  {
   "cell_type": "code",
   "execution_count": null,
   "id": "1e197f81-afe5-45ea-ab92-3de180150681",
   "metadata": {},
   "outputs": [],
   "source": []
  },
  {
   "cell_type": "code",
   "execution_count": null,
   "id": "71a7637e-0dd7-41ac-9a3a-c5d0f201b603",
   "metadata": {},
   "outputs": [],
   "source": []
  }
 ],
 "metadata": {
  "kernelspec": {
   "display_name": "Python 3",
   "language": "python",
   "name": "python3"
  },
  "language_info": {
   "codemirror_mode": {
    "name": "ipython",
    "version": 3
   },
   "file_extension": ".py",
   "mimetype": "text/x-python",
   "name": "python",
   "nbconvert_exporter": "python",
   "pygments_lexer": "ipython3",
   "version": "3.8.8"
  }
 },
 "nbformat": 4,
 "nbformat_minor": 5
}
